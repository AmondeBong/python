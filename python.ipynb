{
 "cells": [
  {
   "cell_type": "markdown",
   "metadata": {},
   "source": [
    "# Python Class\n",
    "\n",
    "### With Jupyter Notebook\n"
   ]
  },
  {
   "cell_type": "code",
   "execution_count": 9,
   "metadata": {},
   "outputs": [
    {
     "data": {
      "text/plain": [
       "8"
      ]
     },
     "execution_count": 9,
     "metadata": {},
     "output_type": "execute_result"
    }
   ],
   "source": [
    "#1주차 수업\n",
    "3+5"
   ]
  },
  {
   "cell_type": "code",
   "execution_count": 10,
   "metadata": {},
   "outputs": [
    {
     "data": {
      "text/plain": [
       "8"
      ]
     },
     "execution_count": 10,
     "metadata": {},
     "output_type": "execute_result"
    }
   ],
   "source": [
    "def add(a,b):\n",
    "    return a+b\n",
    "#def는 python에서 함수에 해당한다.\n",
    "add(5,3)"
   ]
  },
  {
   "cell_type": "code",
   "execution_count": 18,
   "metadata": {},
   "outputs": [
    {
     "data": {
      "text/html": [
       "<img src=\"http://news.samsungdisplay.com/wp-content/uploads/2018/08/8.jpg\" width=\"400\" height=\"300\"/>"
      ],
      "text/plain": [
       "<IPython.core.display.Image object>"
      ]
     },
     "execution_count": 18,
     "metadata": {},
     "output_type": "execute_result"
    }
   ],
   "source": [
    "from IPython.display import Image\n",
    "Image(url=\"http://news.samsungdisplay.com/wp-content/uploads/2018/08/8.jpg\", width=400,height=300)"
   ]
  },
  {
   "cell_type": "code",
   "execution_count": 33,
   "metadata": {},
   "outputs": [
    {
     "data": {
      "text/html": [
       "\n",
       "        <iframe\n",
       "            width=\"400\"\n",
       "            height=\"300\"\n",
       "            src=\"https://www.youtube.com/embed/X3y3MpSM-to\"\n",
       "            frameborder=\"0\"\n",
       "            allowfullscreen\n",
       "            \n",
       "        ></iframe>\n",
       "        "
      ],
      "text/plain": [
       "<IPython.lib.display.YouTubeVideo at 0x11cdc8130>"
      ]
     },
     "execution_count": 33,
     "metadata": {},
     "output_type": "execute_result"
    }
   ],
   "source": [
    "from IPython.display import YouTubeVideo\n",
    "YouTubeVideo('X3y3MpSM-to')"
   ]
  },
  {
   "cell_type": "code",
   "execution_count": 29,
   "metadata": {},
   "outputs": [
    {
     "data": {
      "image/png": "[encoded data removed]",
      "text/plain": [
       "<Figure size 640x480 with 1 Axes>"
      ]
     },
     "metadata": {},
     "output_type": "display_data"
    }
   ],
   "source": [
    "import matplotlib.pyplot as plt\n",
    "plt.plot([1,2,3,4])\n",
    "plt.ylabel('result')\n",
    "plt.show()"
   ]
  },
  {
   "cell_type": "code",
   "execution_count": 30,
   "metadata": {},
   "outputs": [
    {
     "name": "stdout",
     "output_type": "stream",
     "text": [
      "6.68 ns ± 0.00415 ns per loop (mean ± std. dev. of 7 runs, 100,000,000 loops each)\n"
     ]
    }
   ],
   "source": [
    "%timeit 3+4\n",
    "#3+4를 계산하는데 걸리는 시간"
   ]
  },
  {
   "cell_type": "code",
   "execution_count": 32,
   "metadata": {},
   "outputs": [
    {
     "name": "stdout",
     "output_type": "stream",
     "text": [
      "76.1 ns ± 0.0451 ns per loop (mean ± std. dev. of 7 runs, 10,000,000 loops each)\n"
     ]
    }
   ],
   "source": [
    "%timeit add(3,4)"
   ]
  },
  {
   "cell_type": "code",
   "execution_count": 35,
   "metadata": {},
   "outputs": [
    {
     "name": "stdout",
     "output_type": "stream",
     "text": [
      "270 ns ± 7.19 ns per loop (mean ± std. dev. of 7 runs, 1,000,000 loops each)\n"
     ]
    }
   ],
   "source": [
    "%%timeit #셀 전체를 계산하는데 걸리는 시간\n",
    "a=[1,2,3]\n",
    "a=[x+1 for x in a]"
   ]
  },
  {
   "cell_type": "markdown",
   "metadata": {},
   "source": [
    "# 파이썬 기초다지기"
   ]
  },
  {
   "cell_type": "markdown",
   "metadata": {},
   "source": [
    "## 1week 1day"
   ]
  },
  {
   "cell_type": "code",
   "execution_count": 40,
   "metadata": {},
   "outputs": [
    {
     "data": {
      "text/plain": [
       "bool"
      ]
     },
     "execution_count": 40,
     "metadata": {},
     "output_type": "execute_result"
    }
   ],
   "source": [
    "boolvar = True\n",
    "intVar = 0\n",
    "floatVar = 0.0\n",
    "strVar = \"\"\n",
    "#type함수를 이용하여 bool,int,float,str의 변수type을 확인할수있다.\n",
    "\n",
    "type(boolvar)"
   ]
  },
  {
   "cell_type": "code",
   "execution_count": 42,
   "metadata": {},
   "outputs": [
    {
     "name": "stdout",
     "output_type": "stream",
     "text": [
      "100\n",
      "100+100\n",
      "200\n"
     ]
    }
   ],
   "source": [
    "print(\"100\")\n",
    "print(\"100+100\") #\"\"안의 내용 그대로 출력\n",
    "print(\"%d\" % (100+100)) #100과 100을 더한 200의 값이 출력"
   ]
  },
  {
   "cell_type": "code",
   "execution_count": 1,
   "metadata": {},
   "outputs": [
    {
     "name": "stdout",
     "output_type": "stream",
     "text": [
      "500\n"
     ]
    }
   ],
   "source": [
    "var1 = int(input(\"숫자를 입력하세요 --> \"))\n",
    "print(var1)"
   ]
  },
  {
   "cell_type": "code",
   "execution_count": 47,
   "metadata": {},
   "outputs": [
    {
     "name": "stdout",
     "output_type": "stream",
     "text": [
      "8 2 1.6666666666666667 15 1 125 2\n"
     ]
    }
   ],
   "source": [
    "a =5; b=3;\n",
    "print(a+b,a-b,a/b,a*b,a//b,a**b,a%b)"
   ]
  },
  {
   "cell_type": "code",
   "execution_count": 52,
   "metadata": {},
   "outputs": [
    {
     "name": "stdout",
     "output_type": "stream",
     "text": [
      "False True False True False True\n"
     ]
    }
   ],
   "source": [
    "a =100; b=200;\n",
    "print(a==b , a!=b, a>b, a<b, a>=b,a<=b)"
   ]
  },
  {
   "cell_type": "code",
   "execution_count": 53,
   "metadata": {},
   "outputs": [
    {
     "name": "stdout",
     "output_type": "stream",
     "text": [
      "100보다 작습니다.\n"
     ]
    }
   ],
   "source": [
    "a =99;\n",
    "if a<100 :\n",
    "    print(\"100보다 작습니다.\")\n",
    "\n",
    "    ##약간 수ㅇ"
   ]
  },
  {
   "cell_type": "code",
   "execution_count": 61,
   "metadata": {},
   "outputs": [
    {
     "name": "stdout",
     "output_type": "stream",
     "text": [
      "500보다 크고 1000보다 작습니다.\n"
     ]
    }
   ],
   "source": [
    "a = int(input(\"숫자를 입력하시오---->\"))\n",
    "\n",
    "if a<100:\n",
    "    print(\"100보다 작습니다.\")\n",
    "elif a<500:\n",
    "    print(\"500보다 작습니다.\")\n",
    "elif a>500 and a<1000:\n",
    "    print(\"500보다 크고 1000보다 작습니다.\")\n",
    "else:\n",
    "    print(\"1000보다 큽니다.\")    "
   ]
  },
  {
   "cell_type": "markdown",
   "metadata": {},
   "source": [
    "## 1week 2day"
   ]
  },
  {
   "cell_type": "code",
   "execution_count": 13,
   "metadata": {},
   "outputs": [
    {
     "name": "stdout",
     "output_type": "stream",
     "text": [
      "안녕하세요 for문을 공부 중입니다. ^^\n",
      "안녕하세요 for문을 공부 중입니다. ^^\n",
      "안녕하세요 for문을 공부 중입니다. ^^\n",
      "\n",
      "\n",
      "반갑습니다 for문을 공부하고 있습니다.~~\n",
      "반갑습니다 for문을 공부하고 있습니다.~~\n",
      "반갑습니다 for문을 공부하고 있습니다.~~\n"
     ]
    }
   ],
   "source": [
    "#반복문 for\n",
    "#for 변수 in range(시작값,끝값+1,증가값):\n",
    "#for 변수 in []\n",
    "\n",
    "for i in range(0,3,1):\n",
    "    print(\"안녕하세요 for문을 공부 중입니다. ^^\")\n",
    "\n",
    "\n",
    "print(\"\\n\")\n",
    "\n",
    "for i in [0,1,2]:\n",
    "    print(\"반갑습니다 for문을 공부하고 있습니다.~~\")    "
   ]
  },
  {
   "cell_type": "code",
   "execution_count": 16,
   "metadata": {},
   "outputs": [
    {
     "name": "stdout",
     "output_type": "stream",
     "text": [
      "ㅎ ㅎ ㅎ ㅎ ㅎ ㅎ ㅎ ㅎ ㅎ ㅎ "
     ]
    }
   ],
   "source": [
    "#반복문 while문\n",
    "a=0\n",
    "while a<10:\n",
    "    print(\"ㅎ\",end=\" \")\n",
    "    a+=1"
   ]
  },
  {
   "cell_type": "code",
   "execution_count": 17,
   "metadata": {},
   "outputs": [
    {
     "name": "stdout",
     "output_type": "stream",
     "text": [
      "ㅎ ㅎ ㅎ ㅎ ㅎ ㅎ ㅎ ㅎ ㅎ ㅎ ㅎ "
     ]
    }
   ],
   "source": [
    "#break문\n",
    "a=0\n",
    "for i in range(1,100):\n",
    "    print(\"ㅎ\",end=\" \")\n",
    "    a+=1\n",
    "    if(a>10):\n",
    "        break"
   ]
  },
  {
   "cell_type": "code",
   "execution_count": 24,
   "metadata": {},
   "outputs": [
    {
     "name": "stdout",
     "output_type": "stream",
     "text": [
      "func1()에서 a 값 10\n",
      "func2()에서 a 값 20 \n"
     ]
    }
   ],
   "source": [
    "#function 함수\n",
    "def func1():\n",
    "    a=10 #함수안에서 a는 전역변수\n",
    "    print(\"func1()에서 a 값 %d\"%a)\n",
    "def func2():\n",
    "    print(\"func2()에서 a 값 %d \"%a)    \n",
    "\n",
    "a=20\n",
    "\n",
    "func1()\n",
    "func2()"
   ]
  },
  {
   "cell_type": "code",
   "execution_count": 9,
   "metadata": {},
   "outputs": [
    {
     "name": "stdout",
     "output_type": "stream",
     "text": [
      "multi()에서 반환한 값 ==>  300,-100,20000,10000000000000000000000000000000000000000000000000000000000000000000000000000000000000000000000000000000000000000000000000000000000000000000000000000000000000000000000000000000000000000000000000000000000000000000000000000000000000000000000000000000000000000000000000000000000000000000000000000000000000000000000000000000000000000000000000000000000000000000000000000000000000000000000000000000000000000\n"
     ]
    }
   ],
   "source": [
    "\n",
    "def multi(v1,v2):\n",
    "    retList = []\n",
    "    res1 = v1+v2\n",
    "    res2 = v1-v2\n",
    "    res3 = v1*v2\n",
    "    res4 = v1/v2\n",
    "    res5 = v1%v2\n",
    "    res6 = v1**v2\n",
    "    retList.append(res1)\n",
    "    retList.append(res2)\n",
    "    retList.append(res3)\n",
    "    retList.append(res4)\n",
    "    retList.append(res5)\n",
    "    retList.append(res6)\n",
    "    return retList\n",
    "\n",
    "myList = []\n",
    "hap,sub,mul,suq,a,b, = 0,0,0,0,0,0\n",
    "\n",
    "myList = multi(100,200)\n",
    "hap = myList[0]\n",
    "sub = myList[1]\n",
    "mul = myList[2]\n",
    "suq = myList[3]\n",
    "a = myList[4]\n",
    "b = myList[5]\n",
    "print(\"multi()에서 반환한 값 ==>  %d,%d,%d,%d,%d,%d\" %(hap,sub,mul,suq,a,b))"
   ]
  },
  {
   "cell_type": "code",
   "execution_count": 11,
   "metadata": {},
   "outputs": [
    {
     "name": "stdout",
     "output_type": "stream",
     "text": [
      "multi()에서 반환한 값 ==>  300,-100\n"
     ]
    }
   ],
   "source": [
    "def multi(v1,v2):\n",
    "    retList = []\n",
    "    res1 = v1+v2\n",
    "    res2 = v1-v2\n",
    "    \n",
    "    retList.append(res1)\n",
    "    retList.append(res2)\n",
    "    return retList\n",
    "\n",
    "myList = []\n",
    "hap,sub,mul,suq = 0,0,0,0\n",
    "\n",
    "myList = multi(100,200)\n",
    "hap = myList[0]\n",
    "sub = myList[1]\n",
    "print(\"multi()에서 반환한 값 ==>  %d,%d\" %(hap,sub))"
   ]
  }
 ],
 "metadata": {
  "kernelspec": {
   "display_name": "Python 3.10.6 64-bit",
   "language": "python",
   "name": "python3"
  },
  "language_info": {
   "codemirror_mode": {
    "name": "ipython",
    "version": 3
   },
   "file_extension": ".py",
   "mimetype": "text/x-python",
   "name": "python",
   "nbconvert_exporter": "python",
   "pygments_lexer": "ipython3",
   "version": "3.10.6"
  },
  "orig_nbformat": 4,
  "vscode": {
   "interpreter": {
    "hash": "aee8b7b246df8f9039afb4144a1f6fd8d2ca17a180786b69acc140d282b71a49"
   }
  }
 },
 "nbformat": 4,
 "nbformat_minor": 2
}
