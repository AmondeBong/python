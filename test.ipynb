{
 "cells": [
  {
   "cell_type": "code",
   "execution_count": null,
   "metadata": {},
   "outputs": [],
   "source": [
    "def isStackFull():\n",
    "    global SIZE,stack,top\n",
    "    if(top >= SIZE - 1):\n",
    "        return True\n",
    "    else:\n",
    "        return False\n",
    "def isStackEmpty():\n",
    "    global SIZE,stack,top\n",
    "    if(top == -1):\n",
    "        return True\n",
    "    else :\n",
    "        return False\n",
    "\n",
    "def push(data):\n",
    "    global SIZE,stack,top\n",
    "    if(isStackFull()):\n",
    "        print(\"스택이 꽉 찼습니다.\")\n",
    "        return\n",
    "    \n",
    "    top += 1\n",
    "    stack[top] = stack\n",
    "\n",
    "def pop():\n",
    "    global SIZE,stack,top\n",
    "    if(isStackEmpty()):\n",
    "        print(\"스택이 비었습니다.\")\n",
    "        return\n",
    "    popData = stack[top]\n",
    "    stack[top] = None\n",
    "    top -= 1\n",
    "    return popData\n",
    "\n",
    "def peek():\n",
    "    global SIZE,stack,top\n",
    "    if(isStackEmpty()):\n",
    "        print(\"스택이 비었습니다.\")\n",
    "        return\n",
    "    return stack[top]    \n",
    "\n",
    "\n",
    "SIZE = 5\n",
    "stack = [ None for _ in range(SIZE)]\n",
    "top = - 1\n"
   ]
  },
  {
   "cell_type": "code",
   "execution_count": null,
   "metadata": {},
   "outputs": [],
   "source": []
  }
 ],
 "metadata": {
  "kernelspec": {
   "display_name": "Python 3.10.6 64-bit",
   "language": "python",
   "name": "python3"
  },
  "language_info": {
   "name": "python",
   "version": "3.10.6"
  },
  "orig_nbformat": 4,
  "vscode": {
   "interpreter": {
    "hash": "aee8b7b246df8f9039afb4144a1f6fd8d2ca17a180786b69acc140d282b71a49"
   }
  }
 },
 "nbformat": 4,
 "nbformat_minor": 2
}
