{
 "cells": [
  {
   "cell_type": "markdown",
   "metadata": {},
   "source": [
    "## 5WEEK STACK"
   ]
  },
  {
   "cell_type": "markdown",
   "metadata": {},
   "source": [
    "### Stack push"
   ]
  },
  {
   "cell_type": "code",
   "execution_count": 1,
   "metadata": {},
   "outputs": [
    {
     "name": "stdout",
     "output_type": "stream",
     "text": [
      "-----스택 상태------\n",
      "None\n",
      "None\n",
      "꿀물\n",
      "녹차\n",
      "커피\n"
     ]
    }
   ],
   "source": [
    "stack = [None,None,None,None,None]\n",
    "top = -1 # 초깃값 -1로 설정\n",
    "\n",
    "top += 1 # top을 0으로 설정\n",
    "stack[top] = \"커피\"\n",
    "top += 1 # top을 1으로 설정\n",
    "stack[top] = \"녹차\"\n",
    "top += 1 # top을 2으로 설정\n",
    "stack[top] = \"꿀물\"\n",
    "\n",
    "print(\"-----스택 상태------\")\n",
    "\n",
    "for i in range(len(stack)-1,-1,-1): #(start,stop,step) step이 음수이면 역순으로 출력\n",
    "    print(stack[i])"
   ]
  },
  {
   "cell_type": "markdown",
   "metadata": {},
   "source": [
    "### Stack pop"
   ]
  },
  {
   "cell_type": "code",
   "execution_count": 2,
   "metadata": {},
   "outputs": [
    {
     "name": "stdout",
     "output_type": "stream",
     "text": [
      "-----스택상태-----\n",
      "None\n",
      "None\n",
      "꿀물\n",
      "녹차\n",
      "커피\n",
      "----------------\n",
      "pop --> 꿀물\n",
      "pop --> 녹차\n",
      "pop --> 커피\n",
      "----------------\n",
      "-----스택 상태------\n",
      "None\n",
      "None\n",
      "None\n",
      "None\n",
      "None\n"
     ]
    }
   ],
   "source": [
    "stack = [\"커피\",\"녹차\",\"꿀물\",None,None]\n",
    "top = 2\n",
    "\n",
    "print(\"-----스택상태-----\")\n",
    "\n",
    "for i in range(len(stack)-1,-1,-1): #(start,stop,step) step이 음수이면 역순으로 출력\n",
    "    print(stack[i])\n",
    "\n",
    "print(\"----------------\")\n",
    "\n",
    "data = stack[top] #data에 stack[2] 값을 저장\n",
    "stack[top] = None # stack[2] 값 pop\n",
    "top -= 1 \n",
    "print(\"pop -->\",data)\n",
    "\n",
    "data = stack[top] #data에 stack[1] 값을 저장\n",
    "stack[top] = None # stack[1] 값 pop\n",
    "top -= 1 \n",
    "print(\"pop -->\",data)\n",
    "\n",
    "data = stack[top] #data에 stack[0] 값을 저장\n",
    "stack[top] = None # stack[0] 값 pop\n",
    "top -= 1 \n",
    "print(\"pop -->\",data)\n",
    "\n",
    "\n",
    "print(\"----------------\")\n",
    "\n",
    "print(\"-----스택 상태------\")\n",
    "\n",
    "for i in range(len(stack)-1,-1,-1): #(start,stop,step) step이 음수이면 역순으로 출력\n",
    "    print(stack[i])"
   ]
  },
  {
   "cell_type": "markdown",
   "metadata": {},
   "source": [
    "### Stack 초기화"
   ]
  },
  {
   "cell_type": "code",
   "execution_count": null,
   "metadata": {},
   "outputs": [],
   "source": [
    "SIZE = 5 #스택의 크기\n",
    "\n",
    "stack = [None for _ in range(SIZE)]\n",
    "\n",
    "top = -1"
   ]
  },
  {
   "cell_type": "markdown",
   "metadata": {},
   "source": [
    "### 데이터 삽입 함수"
   ]
  },
  {
   "cell_type": "code",
   "execution_count": 4,
   "metadata": {},
   "outputs": [
    {
     "name": "stdout",
     "output_type": "stream",
     "text": [
      "['커피', '녹차', '꿀물', '콜라', None]\n",
      "['커피', '녹차', '꿀물', '콜라', '환타']\n",
      "스택이 꽉 찼습니다.\n"
     ]
    }
   ],
   "source": [
    "def isStackFull(): #스택이 꽉 찼는지 확인\n",
    "    global SIZE,stack,top\n",
    "    if(top>=SIZE-1):\n",
    "        return True\n",
    "    else :\n",
    "        return False\n",
    "\n",
    "def push(data): # 데이터 삽입 함수\n",
    "    global SIZE,stack,top\n",
    "    if(isStackFull()):\n",
    "        print(\"스택이 꽉 찼습니다.\")\n",
    "        return\n",
    "    top += 1\n",
    "    stack[top] = data    \n",
    "\n",
    "SIZE = 5 #스택의 크기\n",
    "stack = [\"커피\",\"녹차\",\"꿀물\",\"콜라\",None]\n",
    "top = 3\n",
    "\n",
    "print(stack)\n",
    "push(\"환타\")\n",
    "print(stack)\n",
    "push(\"게토레이\")"
   ]
  },
  {
   "cell_type": "markdown",
   "metadata": {},
   "source": [
    "### 데이터 추출 함수"
   ]
  },
  {
   "cell_type": "code",
   "execution_count": 6,
   "metadata": {},
   "outputs": [
    {
     "name": "stdout",
     "output_type": "stream",
     "text": [
      "['커피', None, None, None, None]\n",
      "추출한 데이터 --->  커피\n",
      "[None, None, None, None, None]\n",
      "스택이 비었습니다.\n"
     ]
    }
   ],
   "source": [
    "def isStackEmpty(): #스택이 비었는지 확인하는 함수\n",
    "    global SIZE,stack,top\n",
    "    if(top == -1):\n",
    "        return True\n",
    "    else :\n",
    "        return False \n",
    "\n",
    "def pop():\n",
    "    global SIZE,stack,top\n",
    "    if(isStackEmpty()):\n",
    "        print(\"스택이 비었습니다.\")\n",
    "        return None\n",
    "    data = stack[top]\n",
    "    stack[top] = None\n",
    "    top -= 1\n",
    "    return data\n",
    "    \n",
    "SIZE = 5 #스택의 크기\n",
    "stack = [\"커피\",None,None,None,None]\n",
    "top = 0\n",
    "\n",
    "print(stack)\n",
    "retData = pop()\n",
    "print(\"추출한 데이터 ---> \",retData)\n",
    "print(stack)\n",
    "retData = pop()"
   ]
  },
  {
   "cell_type": "markdown",
   "metadata": {},
   "source": [
    "### 위치를 확인하는 함수"
   ]
  },
  {
   "cell_type": "code",
   "execution_count": 7,
   "metadata": {},
   "outputs": [
    {
     "name": "stdout",
     "output_type": "stream",
     "text": [
      "['커피', '녹차', '꿀물', None, None]\n",
      "top의 데이터 확인 --->  꿀물\n",
      "['커피', '녹차', '꿀물', None, None]\n"
     ]
    }
   ],
   "source": [
    "def isStackEmpty(): #스택이 비었는지 확인하는 함수\n",
    "    global SIZE,stack,top\n",
    "    if(top == -1):\n",
    "        return True\n",
    "    else :\n",
    "        return False \n",
    "\n",
    "def peek():\n",
    "    global SIZE,stack,top\n",
    "    if(isStackEmpty()):\n",
    "        print(\"스택이 비었습니다.\")\n",
    "        return None\n",
    "    return stack[top]\n",
    "\n",
    "SIZE = 5 #스택의 크기\n",
    "stack = [\"커피\",\"녹차\",\"꿀물\",None,None]\n",
    "top = 2  \n",
    "\n",
    "print(stack)\n",
    "retData = peek()\n",
    "print(\"top의 데이터 확인 ---> \", retData)\n",
    "print(stack)   "
   ]
  },
  {
   "cell_type": "markdown",
   "metadata": {},
   "source": [
    "### 스택의 일반 구현"
   ]
  },
  {
   "cell_type": "code",
   "execution_count": 5,
   "metadata": {},
   "outputs": [
    {
     "name": "stdout",
     "output_type": "stream",
     "text": [
      "스택의 상태:  ['coffee', None, None, None, None]\n",
      "스택의 상태:  ['coffee', 'greentea', None, None, None]\n",
      "스택의 상태:  ['coffee', 'greentea', 'honeywater', None, None]\n",
      "추출된 데이터 ---->  honeywater\n",
      "스택의 상태:  ['coffee', 'greentea', None, None, None]\n",
      "확인된 데이터 ---->  greentea\n",
      "스택의 상태:  ['coffee', 'greentea', None, None, None]\n"
     ]
    }
   ],
   "source": [
    "def isStackFull(): #스택이 꽉 찼는지 확인\n",
    "    global SIZE,stack,top\n",
    "    if(top>=SIZE-1):\n",
    "        return True\n",
    "    else :\n",
    "        return False\n",
    "\n",
    "def isStackEmpty(): #스택이 비었는지 확인하는 함수\n",
    "    global SIZE,stack,top\n",
    "    if(top == -1):\n",
    "        return True\n",
    "    else :\n",
    "        return False\n",
    "\n",
    "def push(data): # 데이터 삽입 함수\n",
    "    global SIZE,stack,top\n",
    "    if(isStackFull()):\n",
    "        print(\"스택이 꽉 찼습니다.\")\n",
    "        return \n",
    "    top += 1\n",
    "    stack[top] = data   \n",
    "\n",
    "def pop(): # 데이터 삭제 함수\n",
    "    global SIZE,stack,top\n",
    "    if(isStackEmpty()):\n",
    "        print(\"스택이 비었습니다.\")\n",
    "        return None\n",
    "    data = stack[top]\n",
    "    stack[top] = None\n",
    "    top -= 1\n",
    "    return data\n",
    "\n",
    "def peek(): #top위치의 데이터 확인 함수\n",
    "    global SIZE,stack,top\n",
    "    if(isStackEmpty()):\n",
    "        print(\"스택이 비었습니다.\")\n",
    "        return None\n",
    "    return stack[top]\n",
    "\n",
    "SIZE = int(input(\"스택의 크기를 입력하시오 ---->\"))\n",
    "stack = [None for _ in range(SIZE)]\n",
    "top = -1 ## 초기화\n",
    "play = True\n",
    "\n",
    "if __name__ == \"__main__\":\n",
    "\n",
    "    select = input(\"삽입(I)/추출(O)/확인(C)/종료(E) 중 하나를 선택 -------->\")\n",
    "\n",
    "    while(select != \"E\" and select != \"e\"):\n",
    "        \n",
    "        if select == \"I\" or select == \"i\":\n",
    "            data = input(\"입력할 데이터 --->\")\n",
    "            push(data)\n",
    "            print(\"스택의 상태: \",stack)\n",
    "        \n",
    "        elif select == \"O\" or select == \"o\":\n",
    "            data = pop()\n",
    "            print(\"추출된 데이터 ----> \", data)\n",
    "            print(\"스택의 상태: \",stack)\n",
    "        \n",
    "        elif select == \"C\" or select == \"c\":\n",
    "            data = peek()\n",
    "            print(\"확인된 데이터 ----> \", data)\n",
    "            print(\"스택의 상태: \",stack)\n",
    "        \n",
    "        else :\n",
    "            print(\"다시 선택 하시오.\")\n",
    "\n",
    "\n",
    "        select = input(\"삽입(I)/추출(O)/확인(C)/종료(E) 중 하나를 선택 -------->\")\n",
    "                    \n",
    "\n"
   ]
  }
 ],
 "metadata": {
  "kernelspec": {
   "display_name": "Python 3.10.6 64-bit",
   "language": "python",
   "name": "python3"
  },
  "language_info": {
   "codemirror_mode": {
    "name": "ipython",
    "version": 3
   },
   "file_extension": ".py",
   "mimetype": "text/x-python",
   "name": "python",
   "nbconvert_exporter": "python",
   "pygments_lexer": "ipython3",
   "version": "3.10.6"
  },
  "orig_nbformat": 4,
  "vscode": {
   "interpreter": {
    "hash": "aee8b7b246df8f9039afb4144a1f6fd8d2ca17a180786b69acc140d282b71a49"
   }
  }
 },
 "nbformat": 4,
 "nbformat_minor": 2
}
