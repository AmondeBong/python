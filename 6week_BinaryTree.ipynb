{
 "cells": [
  {
   "cell_type": "markdown",
   "metadata": {},
   "source": [
    "## 6WEEK Binary Tree"
   ]
  },
  {
   "cell_type": "markdown",
   "metadata": {},
   "source": [
    "### 이진트리 간단 구현"
   ]
  },
  {
   "cell_type": "code",
   "execution_count": 4,
   "metadata": {},
   "outputs": [
    {
     "name": "stdout",
     "output_type": "stream",
     "text": [
      "화사 \n",
      "솔라 문별 \n",
      "휘인 쯔위 선미 "
     ]
    }
   ],
   "source": [
    "class TreeNode():\n",
    "    def __init__(self):\n",
    "        self.left = None\n",
    "        self.data = None\n",
    "        self.right = None\n",
    "node1 = TreeNode()\n",
    "node1.data = \"화사\"        \n",
    "\n",
    "node2 = TreeNode()\n",
    "node2.data = \"솔라\"\n",
    "node1.left = node2\n",
    "\n",
    "node3 = TreeNode()\n",
    "node3.data = \"문별\"\n",
    "node1.right = node3\n",
    "\n",
    "node4 = TreeNode()\n",
    "node4.data = \"휘인\"\n",
    "node2.left = node4\n",
    " \n",
    "node5 = TreeNode()\n",
    "node5.data = \"쯔위\"\n",
    "node2.right = node5\n",
    "\n",
    "node6 = TreeNode()\n",
    "node6.data = \"선미\"\n",
    "node3.left = node6\n",
    "\n",
    "print(node1.data, end = \" \")\n",
    "print()\n",
    "print(node1.left.data , node1.right.data ,end=\" \")\n",
    "print()\n",
    "print(node2.left.data , node2.right.data , node3.left.data ,end = \" \")"
   ]
  },
  {
   "cell_type": "markdown",
   "metadata": {},
   "source": [
    "### 이진트리의 순회\n",
    "\n",
    "* 전위순회 중위순회 후위순회"
   ]
  },
  {
   "cell_type": "code",
   "execution_count": 5,
   "metadata": {},
   "outputs": [
    {
     "name": "stdout",
     "output_type": "stream",
     "text": [
      "전위순회:  화사->솔라->휘인->쯔위->문별->선미->끝\n",
      "중위순회:  휘인->솔라->쯔위->화사->선미->문별->끝\n",
      "후위순회:  휘인->쯔위->솔라->선미->문별->화사->끝\n"
     ]
    }
   ],
   "source": [
    "def preorder(node): #전위순회\n",
    "    if node == None:\n",
    "        return\n",
    "    print(node.data,end = \"->\") # 노드\n",
    "    preorder(node.left) # 왼쪽\n",
    "    preorder(node.right)    # 오른쪽\n",
    "\n",
    "def inorder(node): #중위순회\n",
    "    if node == None:\n",
    "        return\n",
    "    inorder(node.left) # 왼쪽\n",
    "    print(node.data,end = \"->\") # 노드\n",
    "    inorder(node.right)    # 오른쪽    \n",
    "\n",
    "def postorder(node): #후위순회\n",
    "    if node == None:\n",
    "        return\n",
    "    postorder(node.left) # 왼쪽\n",
    "    postorder(node.right)    # 오른쪽\n",
    "    print(node.data,end = \"->\") # 노드\n",
    "\n",
    "\n",
    "print(\"전위순회: \",end = \" \")\n",
    "preorder(node1)   \n",
    "print(\"끝\") \n",
    "\n",
    "print(\"중위순회: \",end = \" \")\n",
    "inorder(node1)   \n",
    "print(\"끝\") \n",
    "\n",
    "print(\"후위순회: \",end = \" \")\n",
    "postorder(node1)   \n",
    "print(\"끝\") "
   ]
  },
  {
   "cell_type": "markdown",
   "metadata": {},
   "source": [
    "### 이진 탐색트리의 검색 작동"
   ]
  },
  {
   "cell_type": "code",
   "execution_count": 5,
   "metadata": {},
   "outputs": [
    {
     "name": "stdout",
     "output_type": "stream",
     "text": [
      "아이들 이/가 트리에 없음\n"
     ]
    }
   ],
   "source": [
    "class TreeNode():\n",
    "    def __init__(self):\n",
    "        self.left = None\n",
    "        self.data = None\n",
    "        self.right = None\n",
    "\n",
    "memory = []\n",
    "root = None\n",
    "nameAry = ['블랙핑크','레드벨벳','마마무','에이핑크','걸스데이','트와이스','잇지','여자친구']\n",
    "\n",
    "node = TreeNode()\n",
    "node.data = nameAry[0]\n",
    "root = node\n",
    "memory.append(node)\n",
    "\n",
    "for name in nameAry[1:]:\n",
    "    node = TreeNode()\n",
    "    node.data = name\n",
    "    current = root\n",
    "    \n",
    "    while True:\n",
    "        if name < current.data:\n",
    "            if current.left == None:\n",
    "                current.left = node\n",
    "                break\n",
    "            current = current.left\n",
    "        else:\n",
    "            if current.right == None:\n",
    "                current.right = node\n",
    "                break\n",
    "            current = current.right\n",
    "    memory.append(node)\n",
    "\n",
    "findName = input(\"찾을 그룹 이름 ---->\")\n",
    "\n",
    "current = root\n",
    "while True:\n",
    "    if findName == current.data:\n",
    "        print(findName,\"을/를 찾음.\")\n",
    "        break\n",
    "    elif findName < current.data:\n",
    "        if current.left == None:\n",
    "            print(findName,\"이/가 트리에 없음\")\n",
    "            break\n",
    "        current = current.left\n",
    "    else :\n",
    "        if current.right == None:\n",
    "            print(findName,\"이/가 트리에 없음\")\n",
    "            break\n",
    "        current = current.right   \n",
    "\n",
    "\n",
    "\n"
   ]
  },
  {
   "cell_type": "markdown",
   "metadata": {},
   "source": [
    "### 이진 탐색 트리에서 데이터 삭제\n",
    "\n",
    "* 양쪽 다 자식 노드가 있을때의 경우 교수님 Binary Tree 코드 참고\n",
    "* parent가 none일때도 교수님 코드 참고"
   ]
  },
  {
   "cell_type": "code",
   "execution_count": 7,
   "metadata": {},
   "outputs": [
    {
     "name": "stdout",
     "output_type": "stream",
     "text": [
      "화사 이/가 트리에 없음\n"
     ]
    }
   ],
   "source": [
    "class TreeNode():\n",
    "    def __init__(self):\n",
    "        self.left = None\n",
    "        self.data = None\n",
    "        self.right = None\n",
    "\n",
    "memory = []\n",
    "root = None\n",
    "nameAry = ['블랙핑크','레드벨벳','마마무','에이핑크','걸스데이','트와이스','잇지','여자친구']\n",
    "\n",
    "node = TreeNode()\n",
    "node.data = nameAry[0]\n",
    "root = node\n",
    "memory.append(node)\n",
    "\n",
    "for name in nameAry[1:]:\n",
    "    node = TreeNode()\n",
    "    node.data = name\n",
    "    current = root\n",
    "    \n",
    "    while True:\n",
    "        if name < current.data:\n",
    "            if current.left == None:\n",
    "                current.left = node\n",
    "                break\n",
    "            current = current.left\n",
    "        else:\n",
    "            if current.right == None:\n",
    "                current.right = node\n",
    "                break\n",
    "            current = current.right\n",
    "    memory.append(node)\n",
    "\n",
    "deleteName = input('삭제할 그룹 이름 --->')\n",
    "\n",
    "current = root\n",
    "parent = None\n",
    "while True:\n",
    "    if deleteName == current.data:\n",
    "        if current.left == None and current.right == None:\n",
    "            if parent.left == current: \n",
    "                parent.left = None\n",
    "            else : \n",
    "                parent.right == None\n",
    "            del(current)\n",
    "\n",
    "        elif current.left != None and current.right == None:\n",
    "            if parent.left == current:\n",
    "                parent.left = current.left\n",
    "            else : \n",
    "                parent.right == current.left\n",
    "            del(current)     \n",
    "\n",
    "        elif current.left == None and current.right != None:\n",
    "            if parent.left == current:\n",
    "                parent.left = current.right\n",
    "            else : \n",
    "                parent.right == current.right\n",
    "            del(current)              \n",
    "\n",
    "        print(deleteName,'이/가 삭제됨.')\n",
    "        break\n",
    "\n",
    "\n",
    "    elif deleteName < current.data:\n",
    "        if current.left == None:\n",
    "            print(deleteName,'이/가 트리에 없음')\n",
    "            break\n",
    "        parent = current\n",
    "        current = current.left\n",
    "        \n",
    "    else :\n",
    "        if current.right == None:\n",
    "            print(deleteName,'이/가 트리에 없음')\n",
    "            break\n",
    "        parent = current\n",
    "        current = current.right\n"
   ]
  }
 ],
 "metadata": {
  "kernelspec": {
   "display_name": "Python 3.10.6 64-bit",
   "language": "python",
   "name": "python3"
  },
  "language_info": {
   "codemirror_mode": {
    "name": "ipython",
    "version": 3
   },
   "file_extension": ".py",
   "mimetype": "text/x-python",
   "name": "python",
   "nbconvert_exporter": "python",
   "pygments_lexer": "ipython3",
   "version": "3.10.6"
  },
  "orig_nbformat": 4,
  "vscode": {
   "interpreter": {
    "hash": "aee8b7b246df8f9039afb4144a1f6fd8d2ca17a180786b69acc140d282b71a49"
   }
  }
 },
 "nbformat": 4,
 "nbformat_minor": 2
}
