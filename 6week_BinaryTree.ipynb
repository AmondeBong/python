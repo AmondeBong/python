{
 "cells": [
  {
   "cell_type": "markdown",
   "metadata": {},
   "source": [
    "## 6WEEK Binary Tree"
   ]
  },
  {
   "cell_type": "markdown",
   "metadata": {},
   "source": [
    "### 이진트리 간단 구현"
   ]
  },
  {
   "cell_type": "code",
   "execution_count": 1,
   "metadata": {},
   "outputs": [
    {
     "name": "stdout",
     "output_type": "stream",
     "text": [
      "화사 \n",
      "솔라 문별 \n",
      "휘인 원영 유진 "
     ]
    }
   ],
   "source": [
    "class TreeNode():\n",
    "    def __init__(self):\n",
    "        self.left = None\n",
    "        self.data = None\n",
    "        self.right = None\n",
    "node1 = TreeNode()\n",
    "node1.data = \"화사\"        \n",
    "\n",
    "node2 = TreeNode()\n",
    "node2.data = \"솔라\"\n",
    "node1.left = node2\n",
    "\n",
    "node3 = TreeNode()\n",
    "node3.data = \"문별\"\n",
    "node1.right = node3\n",
    "\n",
    "node4 = TreeNode()\n",
    "node4.data = \"휘인\"\n",
    "node2.left = node4\n",
    " \n",
    "node5 = TreeNode()\n",
    "node5.data = \"원영\"\n",
    "node2.right = node5\n",
    "\n",
    "node6 = TreeNode()\n",
    "node6.data = \"유진\"\n",
    "node3.left = node6\n",
    "\n",
    "print(node1.data, end = \" \")\n",
    "print()\n",
    "print(node1.left.data , node1.right.data ,end=\" \")\n",
    "print()\n",
    "print(node2.left.data , node2.right.data , node3.left.data ,end = \" \")"
   ]
  },
  {
   "cell_type": "markdown",
   "metadata": {},
   "source": [
    "### 이진트리의 순회\n",
    "\n",
    "* 전위순회 중위순회 후위순회"
   ]
  },
  {
   "cell_type": "code",
   "execution_count": null,
   "metadata": {},
   "outputs": [],
   "source": [
    "def preorder(node): #전위순회\n",
    "    if node == None:\n",
    "        return\n",
    "    print(node.data,end = \"->\") # 노드\n",
    "    preorder(node.left) # 왼쪽\n",
    "    preorder(node.right)    # 오른쪽\n",
    "\n",
    "def inorder(node): #중위순회\n",
    "    if node == None:\n",
    "        return\n",
    "    inorder(node.left) # 왼쪽\n",
    "    print(node.data,end = \"->\") # 노드\n",
    "    inorder(node.right)    # 오른쪽    \n",
    "\n",
    "def postorder(node): #후위순회\n",
    "    if node == None:\n",
    "        return\n",
    "    postorder(node.left) # 왼쪽\n",
    "    postorder(node.right)    # 오른쪽\n",
    "    print(node.data,end = \"->\") # 노드\n",
    "\n",
    "\n",
    "print(\"전위순회: \",end = \" \")\n",
    "preorder(node1)   \n",
    "print(\"끝\") \n",
    "\n",
    "print(\"중위순회: \",end = \" \")\n",
    "inorder(node1)   \n",
    "print(\"끝\") \n",
    "\n",
    "print(\"전위순회: \",end = \" \")\n",
    "postorder(node1)   \n",
    "print(\"끝\") "
   ]
  }
 ],
 "metadata": {
  "kernelspec": {
   "display_name": "Python 3.10.6 64-bit",
   "language": "python",
   "name": "python3"
  },
  "language_info": {
   "codemirror_mode": {
    "name": "ipython",
    "version": 3
   },
   "file_extension": ".py",
   "mimetype": "text/x-python",
   "name": "python",
   "nbconvert_exporter": "python",
   "pygments_lexer": "ipython3",
   "version": "3.10.6"
  },
  "orig_nbformat": 4,
  "vscode": {
   "interpreter": {
    "hash": "aee8b7b246df8f9039afb4144a1f6fd8d2ca17a180786b69acc140d282b71a49"
   }
  }
 },
 "nbformat": 4,
 "nbformat_minor": 2
}
