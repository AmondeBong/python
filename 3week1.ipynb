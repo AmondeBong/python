{
 "cells": [
  {
   "cell_type": "markdown",
   "metadata": {},
   "source": [
    "### 자동 로또 번호 생성기 22.09.20"
   ]
  },
  {
   "cell_type": "code",
   "execution_count": 15,
   "metadata": {},
   "outputs": [
    {
     "name": "stdout",
     "output_type": "stream",
     "text": [
      "** 로또 번호 생성을 시작합니다. **\n",
      "\n",
      "자동번호--> [20, 44, 9, 12, 10, 23]\n",
      "자동번호--> [12, 31, 24, 12, 26, 37]\n",
      "자동번호--> [34, 14, 34, 8, 30, 23]\n"
     ]
    }
   ],
   "source": [
    "\n",
    "import random\n",
    "\n",
    "lotto = []\n",
    "\n",
    "print(\"** 로또 번호 생성을 시작합니다. **\\n\")\n",
    "number = int(input(\"몇 번을 뽑을까요? \"))\n",
    "\n",
    "for i in range(0,number):\n",
    "\n",
    "    for j in range(0,6):\n",
    "        lotto.append(random.randint(1,45))\n",
    "\n",
    "    print(\"자동번호--> %s\" %lotto)\n",
    "\n",
    "    \n",
    "    lotto = []"
   ]
  },
  {
   "cell_type": "markdown",
   "metadata": {},
   "source": [
    "### 자동 로또 번호 생성기"
   ]
  },
  {
   "cell_type": "code",
   "execution_count": 4,
   "metadata": {},
   "outputs": [
    {
     "name": "stdout",
     "output_type": "stream",
     "text": [
      "** 로또 번호 생성을 시작합니다 **\n",
      "자동번호 -- > 24 29 32 39 40 45 \n",
      "자동번호 -- > 12 14 23 30 32 45 \n",
      "자동번호 -- > 5 19 25 27 42 45 \n",
      "자동번호 -- > 3 14 26 31 38 40 \n",
      "자동번호 -- > 5 9 14 18 27 46 \n"
     ]
    }
   ],
   "source": [
    "import random\n",
    "total_lotto = []\n",
    "lotto = []\n",
    "count = 0\n",
    "pick_num = 0\n",
    "\n",
    "print(\"** 로또 번호 생성을 시작합니다 **\")\n",
    "count = int(input(\"몇 번을 뽑을까요? \"))\n",
    "\n",
    "\n",
    "for i in range(count):\n",
    "    lotto = []  # 로또 초기화\n",
    "    while True:\n",
    "        pick_num = random.randint(1,46)\n",
    "        if pick_num not in lotto:\n",
    "            lotto.append(pick_num)\n",
    "        if len(lotto) >= 6:\n",
    "            break;\n",
    "\n",
    "    total_lotto.append(lotto) # 2차원 배열로 집어넣기 \n",
    "\n",
    "for lotto in total_lotto:\n",
    "    lotto.sort() # 로또 번호 순서 정렬\n",
    "    print(\"자동번호 -- >\",end = \" \")\n",
    "    for i in range(len(lotto)):\n",
    "        print(lotto[i], end = \" \")\n",
    "    print()    \n",
    "\n",
    "        "
   ]
  },
  {
   "cell_type": "markdown",
   "metadata": {},
   "source": [
    "### 가장 많이 나온 글자 세기"
   ]
  },
  {
   "cell_type": "code",
   "execution_count": 1,
   "metadata": {},
   "outputs": [
    {
     "name": "stdout",
     "output_type": "stream",
     "text": [
      "원문\n",
      "\n",
      "나 보기가 역겨워 가실 때에는 말 없이 고이 보내 드리로리다\n",
      "영변에 약산 진달래꽃 아름 따다 가실 길에 뿌리오리다\n",
      "가시는 걸음걸음 놓인 그 꽃을 사뿐히 즈려 밟고 가시옵소서\n",
      "나보기가역겨워 가실 때에는 죽어도 아니 눈물 흘리오리다\n",
      "\n",
      "---------------------\n",
      "문자 빈도수 4회 이상\n",
      "---------------------\n",
      "{'나': 2, '보': 3, '기': 2, '가': 7, '역': 2, '겨': 2, '워': 2, '실': 3, '때': 2, '에': 4, '는': 3, '말': 1, '없': 1, '이': 2, '고': 2, '내': 1, '드': 1, '리': 6, '로': 1, '다': 4, '영': 1, '변': 1, '약': 1, '산': 1, '진': 1, '달': 1, '래': 1, '꽃': 2, '아': 2, '름': 1, '따': 1, '길': 1, '뿌': 1, '오': 2, '시': 2, '걸': 2, '음': 2, '놓': 1, '인': 1, '그': 1, '을': 1, '사': 1, '뿐': 1, '히': 1, '즈': 1, '려': 1, '밟': 1, '옵': 1, '소': 1, '서': 1, '죽': 1, '어': 1, '도': 1, '니': 1, '눈': 1, '물': 1, '흘': 1}\n",
      "가 --> 7\n",
      "에 --> 4\n",
      "리 --> 6\n",
      "다 --> 4\n"
     ]
    }
   ],
   "source": [
    "ss = '''\n",
    "나 보기가 역겨워 가실 때에는 말 없이 고이 보내 드리로리다\n",
    "영변에 약산 진달래꽃 아름 따다 가실 길에 뿌리오리다\n",
    "가시는 걸음걸음 놓인 그 꽃을 사뿐히 즈려 밟고 가시옵소서\n",
    "나보기가역겨워 가실 때에는 죽어도 아니 눈물 흘리오리다\n",
    "''' # ''' 전체 String으로 인식\n",
    "print(\"원문\\n\"+ss)\n",
    "\n",
    "many = {} # 디렉토리 생성\n",
    "\n",
    "print(\"---------------------\")\n",
    "print(\"문자 빈도수 4회 이상\")\n",
    "print(\"---------------------\")\n",
    "\n",
    "for i in ss: #ss중에서 처음부터 i는 문자 1개\n",
    "    if i.isalpha(): # String이 글자일 경우\n",
    "        if i in many: # i가 이미 딕셔너리에 들어 있을 경우\n",
    "            many[i] += 1 # 키에 값 추가\n",
    "        else : # 디렉토리에 없는 경우\n",
    "            many[i] = 1 #키도 생성하고 값도 추가\n",
    "\n",
    "print(many)\n",
    "\n",
    "for key in many: # many의 키 처음부터 끝까지\n",
    "    if many[key] >= 4: #키의 값이 4이상일 경우\n",
    "        print(key, '-->', many[key])                \n",
    "\n"
   ]
  }
 ],
 "metadata": {
  "kernelspec": {
   "display_name": "Python 3.10.6 64-bit",
   "language": "python",
   "name": "python3"
  },
  "language_info": {
   "codemirror_mode": {
    "name": "ipython",
    "version": 3
   },
   "file_extension": ".py",
   "mimetype": "text/x-python",
   "name": "python",
   "nbconvert_exporter": "python",
   "pygments_lexer": "ipython3",
   "version": "3.10.6"
  },
  "orig_nbformat": 4,
  "vscode": {
   "interpreter": {
    "hash": "aee8b7b246df8f9039afb4144a1f6fd8d2ca17a180786b69acc140d282b71a49"
   }
  }
 },
 "nbformat": 4,
 "nbformat_minor": 2
}
