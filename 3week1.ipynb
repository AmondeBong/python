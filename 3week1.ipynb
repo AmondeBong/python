{
 "cells": [
  {
   "cell_type": "markdown",
   "metadata": {},
   "source": [
    "### 자동 로또 번호 생성기 22.09.20"
   ]
  },
  {
   "cell_type": "code",
   "execution_count": 15,
   "metadata": {},
   "outputs": [
    {
     "name": "stdout",
     "output_type": "stream",
     "text": [
      "** 로또 번호 생성을 시작합니다. **\n",
      "\n",
      "자동번호--> [20, 44, 9, 12, 10, 23]\n",
      "자동번호--> [12, 31, 24, 12, 26, 37]\n",
      "자동번호--> [34, 14, 34, 8, 30, 23]\n"
     ]
    }
   ],
   "source": [
    "\n",
    "import random\n",
    "\n",
    "lotto = []\n",
    "\n",
    "print(\"** 로또 번호 생성을 시작합니다. **\\n\")\n",
    "number = int(input(\"몇 번을 뽑을까요? \"))\n",
    "\n",
    "for i in range(0,number):\n",
    "\n",
    "    for j in range(0,6):\n",
    "        lotto.append(random.randint(1,45))\n",
    "\n",
    "    print(\"자동번호--> %s\" %lotto)\n",
    "\n",
    "    \n",
    "    lotto = []"
   ]
  },
  {
   "cell_type": "markdown",
   "metadata": {},
   "source": [
    "### 가장 많이 나온 글자 세기"
   ]
  },
  {
   "cell_type": "code",
   "execution_count": 1,
   "metadata": {},
   "outputs": [
    {
     "name": "stdout",
     "output_type": "stream",
     "text": [
      "원문\n",
      "나 보기가 역겨워 가실 때에는 말 없이 고이 보내 드리로리다\n",
      "영변에 약산 진달래꽃 아름 따다 가실 길에 뿌리오리다\n",
      "가시는 걸음걸음 놓인 그 꽃을 사뿐히 즈려 밟고 가시옵소서\n",
      "나보기가역겨워 가실 때에는 죽어도 아니 눈물 흘리오리다\n"
     ]
    },
    {
     "ename": "AttributeError",
     "evalue": "'dict' object has no attribute 'append'",
     "output_type": "error",
     "traceback": [
      "\u001b[0;31m---------------------------------------------------------------------------\u001b[0m",
      "\u001b[0;31mAttributeError\u001b[0m                            Traceback (most recent call last)",
      "\u001b[1;32m/Users/ominsu/Desktop/python/3week1.ipynb 셀 4\u001b[0m in \u001b[0;36m<cell line: 6>\u001b[0;34m()\u001b[0m\n\u001b[1;32m      <a href='vscode-notebook-cell:/Users/ominsu/Desktop/python/3week1.ipynb#W3sZmlsZQ%3D%3D?line=3'>4</a>\u001b[0m many \u001b[39m=\u001b[39m {} \u001b[39m# 중복되지 않은 글자 저장\u001b[39;00m\n\u001b[1;32m      <a href='vscode-notebook-cell:/Users/ominsu/Desktop/python/3week1.ipynb#W3sZmlsZQ%3D%3D?line=5'>6</a>\u001b[0m \u001b[39mfor\u001b[39;00m i \u001b[39min\u001b[39;00m \u001b[39mrange\u001b[39m(\u001b[39m0\u001b[39m,\u001b[39mlen\u001b[39m(ss)):\n\u001b[0;32m----> <a href='vscode-notebook-cell:/Users/ominsu/Desktop/python/3week1.ipynb#W3sZmlsZQ%3D%3D?line=6'>7</a>\u001b[0m     many\u001b[39m.\u001b[39;49mappend(ss[i])\n\u001b[1;32m      <a href='vscode-notebook-cell:/Users/ominsu/Desktop/python/3week1.ipynb#W3sZmlsZQ%3D%3D?line=8'>9</a>\u001b[0m \u001b[39mfor\u001b[39;00m j \u001b[39min\u001b[39;00m \u001b[39mrange\u001b[39m(\u001b[39m0\u001b[39m,\u001b[39mlen\u001b[39m(many)):\n\u001b[1;32m     <a href='vscode-notebook-cell:/Users/ominsu/Desktop/python/3week1.ipynb#W3sZmlsZQ%3D%3D?line=9'>10</a>\u001b[0m     a \u001b[39m=\u001b[39m many\u001b[39m.\u001b[39mcount(many[i])\n",
      "\u001b[0;31mAttributeError\u001b[0m: 'dict' object has no attribute 'append'"
     ]
    }
   ],
   "source": [
    "ss = '나 보기가 역겨워 가실 때에는 말 없이 고이 보내 드리로리다\\n영변에 약산 진달래꽃 아름 따다 가실 길에 뿌리오리다\\n가시는 걸음걸음 놓인 그 꽃을 사뿐히 즈려 밟고 가시옵소서\\n나보기가역겨워 가실 때에는 죽어도 아니 눈물 흘리오리다'\n",
    "print(\"원문\\n\"+ss)\n",
    "\n",
    "many = {} # 중복되지 않은 글자 저장\n",
    "\n",
    "for i in range(0,len(ss)):\n",
    "    many.append(ss[i])\n",
    "\n",
    "for j in range(0,len(many)):\n",
    "    a = many.count(many[i])\n",
    "    if(a>=4):\n",
    "        print(\"%s---> %d\"%(many[i],a))\n",
    "\n"
   ]
  }
 ],
 "metadata": {
  "kernelspec": {
   "display_name": "Python 3.10.6 64-bit",
   "language": "python",
   "name": "python3"
  },
  "language_info": {
   "codemirror_mode": {
    "name": "ipython",
    "version": 3
   },
   "file_extension": ".py",
   "mimetype": "text/x-python",
   "name": "python",
   "nbconvert_exporter": "python",
   "pygments_lexer": "ipython3",
   "version": "3.10.6"
  },
  "orig_nbformat": 4,
  "vscode": {
   "interpreter": {
    "hash": "aee8b7b246df8f9039afb4144a1f6fd8d2ca17a180786b69acc140d282b71a49"
   }
  }
 },
 "nbformat": 4,
 "nbformat_minor": 2
}
