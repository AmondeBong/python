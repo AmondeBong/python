{
 "cells": [
  {
   "cell_type": "markdown",
   "metadata": {},
   "source": [
    "## 파이썬 기초 다지기"
   ]
  },
  {
   "cell_type": "code",
   "execution_count": null,
   "metadata": {},
   "outputs": [],
   "source": [
    "print(\"%d\" %100) # 숫자\n",
    "print(\"%d %d\"%(100,50))\n",
    "\n",
    "var1 = input(\"이렇게 글자를 쓸수 있다.\") #기본으로 문자열을 받음\n",
    "var2 = int(input(\"숫자를 받을 경우\"))\n",
    "\n",
    "start,end,add = 0\n",
    "for i in range(start,end+1,add): # for 변수 in range(시작,끝값+1,증가값)\n",
    "    print(\"이 부분을 반복\")\n",
    "\n",
    "list = [10,20,30,40] # 배열 리스트\n",
    "list.append(0) # 0 추가\n",
    "len(list) # 배열 리스트의 길이\n",
    "print(list[-1]) # 배열의 맨 뒤\n",
    "print(list[0:3]) # 배열의 0번째부터 끝값+1 까지\n",
    "print(list[1:]) # 배열의 1부터 끝까지\n",
    "two_array = [[1,2,3,4],[5,6,7,8],[9,10,11,12]] # 2차원 배열\n",
    "num_list = [num for num in range(1,6)] # for(int num=1;num<6;num++){num_list[num] = num} 컴프리헨션\n",
    "# 배열 리스트 = [배열에 넣고싶은 수식 for 변수 in range(시작,끝값+1,증가값) if 조건식]\n",
    "\n",
    "dictionary = {1:'a',2:'b',3:'c'} # 딕셔너리 = {키1:값1,키2:값2,키3:값3}\n",
    "#여러 정보를 변수 하나로 표현할 때 유용함\n",
    "set = {1,2,3,3,4,4,4,4,5,5,5} #키만 모아놓은 딕셔너리\n",
    "print(set) #중복이 안된다\n",
    "samgim = ['삼각김밥','바나나','도시락','상각김밥','삼각김밥','도시락','삼각김밥']\n",
    "set(samgim)\n",
    "print(samgim) # 종류만 파악하고 싶을때 리스트를 set로 변경\n",
    "\n",
    "str = \"자료구조 & 알고리즘\"\n",
    "print(str[1:4]) # 문자를 연속해서 저장해 놓은 데이터 형식\n",
    "str.count('자') # 찾을 문자열이 몇개가 들어있는지 갯수를 셈\n",
    "str.split() #문자열을 공백이나 다른문자로 분리해서 리스트로 반환\n",
    "\n",
    "touple = (10,20,30) #배열 리스트와 비슷하지만 값을 수정할수 없고 읽기만 가능"
   ]
  },
  {
   "cell_type": "markdown",
   "metadata": {},
   "source": [
    "### 리스트"
   ]
  },
  {
   "cell_type": "code",
   "execution_count": null,
   "metadata": {},
   "outputs": [],
   "source": [
    "# 단순 선형 리스트\n",
    "katok = []\n",
    "def add_data(friend):\n",
    "    katok.append(None)\n",
    "    kLen = len(katok)\n",
    "    katok[kLen-1] = friend\n",
    "\n",
    "katok.append(None)\n",
    "for now in range(last,point,-1): # 맨 뒤부터 지정위치+1 까지 앞 데이터 옮기기\n",
    "    katok[now] = katok[now-1] #뒷칸에 앞 데이터 옮기기\n",
    "    katok[now-1] = None   # 비우기"
   ]
  }
 ],
 "metadata": {
  "kernelspec": {
   "display_name": "Python 3.10.6 64-bit",
   "language": "python",
   "name": "python3"
  },
  "language_info": {
   "name": "python",
   "version": "3.10.6"
  },
  "orig_nbformat": 4,
  "vscode": {
   "interpreter": {
    "hash": "aee8b7b246df8f9039afb4144a1f6fd8d2ca17a180786b69acc140d282b71a49"
   }
  }
 },
 "nbformat": 4,
 "nbformat_minor": 2
}
