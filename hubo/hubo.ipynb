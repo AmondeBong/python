{
 "cells": [
  {
   "cell_type": "code",
   "execution_count": 10,
   "metadata": {},
   "outputs": [
    {
     "ename": "RuntimeError",
     "evalue": "A robot world already exists!",
     "output_type": "error",
     "traceback": [
      "\u001b[0;31m---------------------------------------------------------------------------\u001b[0m",
      "\u001b[0;31mRuntimeError\u001b[0m                              Traceback (most recent call last)",
      "\u001b[1;32m/Users/ominsu/Desktop/python/hubo/hubo.ipynb 셀 1\u001b[0m in \u001b[0;36m<cell line: 2>\u001b[0;34m()\u001b[0m\n\u001b[1;32m      <a href='vscode-notebook-cell:/Users/ominsu/Desktop/python/hubo/hubo.ipynb#W0sZmlsZQ%3D%3D?line=0'>1</a>\u001b[0m \u001b[39mfrom\u001b[39;00m \u001b[39mcs1robots\u001b[39;00m \u001b[39mimport\u001b[39;00m \u001b[39m*\u001b[39m\n\u001b[0;32m----> <a href='vscode-notebook-cell:/Users/ominsu/Desktop/python/hubo/hubo.ipynb#W0sZmlsZQ%3D%3D?line=1'>2</a>\u001b[0m create_world()\n\u001b[1;32m      <a href='vscode-notebook-cell:/Users/ominsu/Desktop/python/hubo/hubo.ipynb#W0sZmlsZQ%3D%3D?line=2'>3</a>\u001b[0m hubo \u001b[39m=\u001b[39m Robot()\n",
      "File \u001b[0;32m~/Desktop/python/hubo/cs1robots.py:254\u001b[0m, in \u001b[0;36mcreate_world\u001b[0;34m(avenues, streets)\u001b[0m\n\u001b[1;32m    252\u001b[0m \u001b[39mglobal\u001b[39;00m _scene, _world\n\u001b[1;32m    253\u001b[0m \u001b[39mif\u001b[39;00m _scene:\n\u001b[0;32m--> 254\u001b[0m     \u001b[39mraise\u001b[39;00m \u001b[39mRuntimeError\u001b[39;00m(\u001b[39m\"\u001b[39m\u001b[39mA robot world already exists!\u001b[39m\u001b[39m\"\u001b[39m)\n\u001b[1;32m    255\u001b[0m _scene \u001b[39m=\u001b[39m _g\u001b[39m.\u001b[39mCanvas()\n\u001b[1;32m    256\u001b[0m _scene\u001b[39m.\u001b[39msetWidth(\u001b[39m50\u001b[39m \u001b[39m*\u001b[39m avenues)\n",
      "\u001b[0;31mRuntimeError\u001b[0m: A robot world already exists!"
     ]
    },
    {
     "ename": "",
     "evalue": "",
     "output_type": "error",
     "traceback": [
      "\u001b[1;31m현재 셀 또는 이전 셀에서 코드를 실행하는 동안 Kernel이 충돌했습니다. 셀의 코드를 검토하여 오류의 가능한 원인을 식별하세요. 자세한 내용을 보려면 <a href='https://aka.ms/vscodeJupyterKernelCrash'> 여기 </a> 를 클릭하세요. 자세한 내용은 Jupyter <a href='command:jupyter.viewOutput'>로그</a>를 참조하세요."
     ]
    }
   ],
   "source": [
    "from cs1robots import *\n",
    "create_world()\n"
   ]
  }
 ],
 "metadata": {
  "kernelspec": {
   "display_name": "Python 3.10.6 64-bit",
   "language": "python",
   "name": "python3"
  },
  "language_info": {
   "codemirror_mode": {
    "name": "ipython",
    "version": 3
   },
   "file_extension": ".py",
   "mimetype": "text/x-python",
   "name": "python",
   "nbconvert_exporter": "python",
   "pygments_lexer": "ipython3",
   "version": "3.10.6"
  },
  "orig_nbformat": 4,
  "vscode": {
   "interpreter": {
    "hash": "aee8b7b246df8f9039afb4144a1f6fd8d2ca17a180786b69acc140d282b71a49"
   }
  }
 },
 "nbformat": 4,
 "nbformat_minor": 2
}
