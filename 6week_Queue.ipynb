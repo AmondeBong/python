{
 "cells": [
  {
   "cell_type": "markdown",
   "metadata": {},
   "source": [
    "## 6week Queue\n",
    "\n",
    "* First In First Out"
   ]
  },
  {
   "cell_type": "markdown",
   "metadata": {},
   "source": [
    "### 데이터 삽입 (enQueue)"
   ]
  },
  {
   "cell_type": "code",
   "execution_count": 1,
   "metadata": {},
   "outputs": [
    {
     "name": "stdout",
     "output_type": "stream",
     "text": [
      "------ 큐 상태 ------\n",
      "[출구] <--- 화사 솔라 문별 None None <--- [입구] \n"
     ]
    }
   ],
   "source": [
    "queue = [None,None,None,None,None]\n",
    "\n",
    "front = rear = - 1 # dummy head and 꼬리\n",
    "\n",
    "rear += 1\n",
    "queue[rear] = \"화사\"\n",
    "rear += 1\n",
    "queue[rear] = \"솔라\"\n",
    "rear += 1\n",
    "queue[rear] = \"문별\"\n",
    "\n",
    "print(\"------ 큐 상태 ------\")\n",
    "print(\"[출구] <---\", end = \" \")\n",
    "for i in range(0,len(queue),1):\n",
    "    print(queue[i],end = \" \")\n",
    "print(\"<--- [입구] \")    \n"
   ]
  },
  {
   "cell_type": "markdown",
   "metadata": {},
   "source": [
    "### 데이터 삭제(deQueue)"
   ]
  },
  {
   "cell_type": "code",
   "execution_count": 6,
   "metadata": {},
   "outputs": [
    {
     "name": "stdout",
     "output_type": "stream",
     "text": [
      "------ 큐 상태 ------\n",
      "[출구] <--- 화사 솔라 문별 None None <--- [입구] \n",
      "--------------------\n",
      "deQueue ---->  화사\n",
      "deQueue ---->  솔라\n",
      "deQueue ---->  문별\n",
      "------ 큐 상태 ------\n",
      "[출구] <--- None None None None None <--- [입구] \n",
      "--------------------\n"
     ]
    }
   ],
   "source": [
    "queue = [\"화사\",\"솔라\",\"문별\",None,None]\n",
    "front = -1\n",
    "rear = 2\n",
    "\n",
    "print(\"------ 큐 상태 ------\")\n",
    "print(\"[출구] <---\", end = \" \")\n",
    "for i in range(0,len(queue),1):\n",
    "    print(queue[i],end = \" \")\n",
    "print(\"<--- [입구] \")\n",
    "print(\"--------------------\")\n",
    "\n",
    "for i in range(0,3):\n",
    "    front += 1\n",
    "    data = queue[front]\n",
    "    queue[front] = None\n",
    "    print(\"deQueue ----> \",data)\n",
    "    \n",
    "print(\"------ 큐 상태 ------\")\n",
    "print(\"[출구] <---\", end = \" \")\n",
    "for i in range(0,len(queue),1):\n",
    "    print(queue[i],end = \" \")\n",
    "print(\"<--- [입구] \")\n",
    "print(\"--------------------\")    \n"
   ]
  },
  {
   "cell_type": "markdown",
   "metadata": {},
   "source": [
    "### 큐 초기화"
   ]
  },
  {
   "cell_type": "code",
   "execution_count": null,
   "metadata": {},
   "outputs": [],
   "source": [
    "SIZE = 5\n",
    "queue = [None for _ in range(SIZE)] #queue = [None,None,None,None,None]\n",
    "front = rear = - 1 "
   ]
  },
  {
   "cell_type": "markdown",
   "metadata": {},
   "source": [
    "### 큐가 FULL인지 확인하는 함수"
   ]
  },
  {
   "cell_type": "code",
   "execution_count": 1,
   "metadata": {},
   "outputs": [
    {
     "name": "stdout",
     "output_type": "stream",
     "text": [
      "큐가 꽉 찼는지 여부 ==>  True\n"
     ]
    }
   ],
   "source": [
    "def isQueueFull():\n",
    "    global SIZE,queue,front,rear\n",
    "    if(rear == SIZE-1): # 자리가 꽉 찼을 경우\n",
    "        return True\n",
    "    else:\n",
    "        return False    \n",
    "\n",
    "SIZE = 5\n",
    "queue = [\"화사\",\"솔라\",\"문별\",\"휘인\",\"선미\"]\n",
    "front = -1\n",
    "rear = 4\n",
    "\n",
    "print(\"큐가 꽉 찼는지 여부 ==> \",isQueueFull())"
   ]
  },
  {
   "cell_type": "markdown",
   "metadata": {},
   "source": [
    "### 큐에 데이터를 삽입하는 함수"
   ]
  },
  {
   "cell_type": "code",
   "execution_count": 3,
   "metadata": {},
   "outputs": [
    {
     "name": "stdout",
     "output_type": "stream",
     "text": [
      "['화사', '솔라', '문별', '휘인', None]\n",
      "['화사', '솔라', '문별', '휘인', '선미']\n",
      "큐가 꽉 찼습니다.\n"
     ]
    }
   ],
   "source": [
    "def enQueue(data):\n",
    "    global SIZE,queue,front,rear\n",
    "    if(isQueueFull()):\n",
    "        print(\"큐가 꽉 찼습니다.\")\n",
    "        return\n",
    "    rear += 1    \n",
    "    queue[rear] = data\n",
    "\n",
    "SIZE = 5\n",
    "queue = [\"화사\",\"솔라\",\"문별\",\"휘인\",None]\n",
    "front = -1\n",
    "rear = 3\n",
    "\n",
    "print(queue)\n",
    "enQueue(\"선미\")\n",
    "print(queue)\n",
    "enQueue(\"재남\")"
   ]
  },
  {
   "cell_type": "markdown",
   "metadata": {},
   "source": [
    "### 데이터가 비었는지 확인하는 함수"
   ]
  },
  {
   "cell_type": "code",
   "execution_count": 4,
   "metadata": {},
   "outputs": [
    {
     "name": "stdout",
     "output_type": "stream",
     "text": [
      "['화사', None, None, None, None]\n",
      "추출한 데이터 ===> 화사\n",
      "[None, None, None, None, None]\n",
      "큐가 비었습니다.\n"
     ]
    }
   ],
   "source": [
    "def isQueueEmpty():\n",
    "    global SIZE,queue,front,rear\n",
    "    if(front == rear):\n",
    "        return True\n",
    "    else:\n",
    "        return False\n",
    "\n",
    "def deQueue():\n",
    "    global SIZE,queue,front,rear\n",
    "    if(isQueueEmpty()):\n",
    "        print(\"큐가 비었습니다.\")\n",
    "        return\n",
    "    front += 1\n",
    "    data = queue[front]\n",
    "    queue[front] = None\n",
    "    return data\n",
    "\n",
    "SIZE = 5\n",
    "queue = [\"화사\",None,None,None,None]       \n",
    "front = -1\n",
    "rear = 0\n",
    "\n",
    "print(queue)\n",
    "retData = deQueue()\n",
    "print(\"추출한 데이터 ===>\", retData)\n",
    "print(queue)\n",
    "retData = deQueue()"
   ]
  },
  {
   "cell_type": "markdown",
   "metadata": {},
   "source": [
    "### 데이터 확인"
   ]
  },
  {
   "cell_type": "code",
   "execution_count": 5,
   "metadata": {},
   "outputs": [
    {
     "name": "stdout",
     "output_type": "stream",
     "text": [
      "['화사', '솔라', '문별', None, None]\n",
      "다음에 추출될 데이터 ====> 화사\n"
     ]
    }
   ],
   "source": [
    "def peek():\n",
    "    global SIZE,queue,front,rear\n",
    "    if(isQueueEmpty()):\n",
    "        print(\"큐가 비었습니다.\")\n",
    "        return None\n",
    "    return queue[front+1]\n",
    "\n",
    "SIZE = 5    \n",
    "queue = [\"화사\",\"솔라\",\"문별\",None,None]\n",
    "front = -1\n",
    "rear = 2      \n",
    "\n",
    "print(queue)\n",
    "retData = peek()\n",
    "print(\"다음에 추출될 데이터 ====>\",retData)"
   ]
  },
  {
   "cell_type": "markdown",
   "metadata": {},
   "source": [
    "### 큐의 일반 구현\n",
    "\n",
    "* 앞에 큐가 비어있어도 새 값을 넣지 못함"
   ]
  },
  {
   "cell_type": "code",
   "execution_count": 6,
   "metadata": {},
   "outputs": [
    {
     "name": "stdout",
     "output_type": "stream",
     "text": [
      "큐의 상태:  ['화사', None, None, None, None]\n",
      "큐의 상태:  ['화사', '솔라', None, None, None]\n",
      "큐의 상태:  ['화사', '솔라', '문별', None, None]\n",
      "큐의 상태:  ['화사', '솔라', '문별', '휘인', None]\n",
      "큐의 상태:  ['화사', '솔라', '문별', '휘인', '선미']\n",
      "추출된 데이터 ---->  화사\n",
      "큐의 상태:  [None, '솔라', '문별', '휘인', '선미']\n",
      "추출된 데이터 ---->  솔라\n",
      "큐의 상태:  [None, None, '문별', '휘인', '선미']\n",
      "큐가 꽉 찼습니다.\n",
      "큐의 상태:  [None, None, '문별', '휘인', '선미']\n",
      "확인된 데이터 ---->  문별\n",
      "큐의 상태:  [None, None, '문별', '휘인', '선미']\n",
      "다시 선택 하시오.\n",
      "프로그램 종료\n"
     ]
    }
   ],
   "source": [
    "def isQueueFull():\n",
    "    global SIZE,queue,front,rear\n",
    "    if(rear == SIZE-1): # 자리가 꽉 찼을 경우\n",
    "        return True\n",
    "    else:\n",
    "        return False \n",
    "def isQueueEmpty():\n",
    "    global SIZE,queue,front,rear\n",
    "    if(front == rear):\n",
    "        return True\n",
    "    else:\n",
    "        return False\n",
    "def enQueue(data):\n",
    "    global SIZE,queue,front,rear\n",
    "    if(isQueueFull()):\n",
    "        print(\"큐가 꽉 찼습니다.\")\n",
    "        return\n",
    "    rear += 1    \n",
    "    queue[rear] = data\n",
    "def deQueue():\n",
    "    global SIZE,queue,front,rear\n",
    "    if(isQueueEmpty()):\n",
    "        print(\"큐가 비었습니다.\")\n",
    "        return\n",
    "    front += 1\n",
    "    data = queue[front]\n",
    "    queue[front] = None\n",
    "    return data  \n",
    "def peek():\n",
    "    global SIZE,queue,front,rear\n",
    "    if(isQueueEmpty()):\n",
    "        print(\"큐가 비었습니다.\")\n",
    "        return None\n",
    "    return queue[front+1]\n",
    "\n",
    "SIZE = int(input(\"큐의 크기를 입력하시오 ====> \"))\n",
    "queue = [None for _ in range(SIZE)]\n",
    "front = rear = -1\n",
    "\n",
    "\n",
    "if __name__ == \"__main__\":\n",
    "    \n",
    "    select = input(\"삽입(I)/추출(O)/확인(C)/종료(E) 중 하나를 선택 -------->\")\n",
    "\n",
    "    while(select != \"E\" and select != \"e\"):\n",
    "        \n",
    "        if select == \"I\" or select == \"i\":\n",
    "            data = input(\"입력할 데이터 --->\")\n",
    "            enQueue(data)\n",
    "            print(\"큐의 상태: \",queue)\n",
    "        \n",
    "        elif select == \"O\" or select == \"o\":\n",
    "            data = deQueue()\n",
    "            print(\"추출된 데이터 ----> \", data)\n",
    "            print(\"큐의 상태: \",queue)\n",
    "        \n",
    "        elif select == \"C\" or select == \"c\":\n",
    "            data = peek()\n",
    "            print(\"확인된 데이터 ----> \", data)\n",
    "            print(\"큐의 상태: \",queue)\n",
    "        \n",
    "        else :\n",
    "            print(\"다시 선택 하시오.\")\n",
    "\n",
    "\n",
    "        select = input(\"삽입(I)/추출(O)/확인(C)/종료(E) 중 하나를 선택 -------->\")\n",
    "\n",
    "    print(\"프로그램 종료\")    "
   ]
  },
  {
   "cell_type": "markdown",
   "metadata": {},
   "source": [
    "### 개선된 버전의 큐"
   ]
  },
  {
   "cell_type": "code",
   "execution_count": 7,
   "metadata": {},
   "outputs": [
    {
     "name": "stdout",
     "output_type": "stream",
     "text": [
      "큐의 상태:  ['화사', None, None, None, None]\n",
      "큐의 상태:  ['화사', '솔라', None, None, None]\n",
      "큐의 상태:  ['화사', '솔라', '문별', None, None]\n",
      "큐의 상태:  ['화사', '솔라', '문별', '휘인', None]\n",
      "큐의 상태:  ['화사', '솔라', '문별', '휘인', '선미']\n",
      "추출된 데이터 ---->  화사\n",
      "큐의 상태:  [None, '솔라', '문별', '휘인', '선미']\n",
      "추출된 데이터 ---->  솔라\n",
      "큐의 상태:  [None, None, '문별', '휘인', '선미']\n",
      "큐의 상태:  [None, '문별', '휘인', '선미', '재남']\n",
      "확인된 데이터 ---->  문별\n",
      "큐의 상태:  [None, '문별', '휘인', '선미', '재남']\n",
      "큐의 상태:  ['문별', '휘인', '선미', '재남', '원영']\n",
      "프로그램 종료\n"
     ]
    }
   ],
   "source": [
    "def isQueueFull():\n",
    "    global SIZE,queue,front,rear\n",
    "    if(rear != SIZE-1): # 자리가 꽉 차지 않은 경우\n",
    "        return False\n",
    "    elif(rear == SIZE -1) and (front == -1): #큐가 꽉 찬 경우\n",
    "        return True\n",
    "    else: # 큐가 꽉 찼는데 front가 -1이 아닌 경우 ---> 앞에 비어있는 칸이 있다.\n",
    "        for i in range(front+1, SIZE):\n",
    "            queue[i-1] = queue[i] # 앞으로 한칸씩 이동\n",
    "            queue[i] = None  \n",
    "        front -= 1\n",
    "        rear -= 1\n",
    "        return False\n",
    "\n",
    "def isQueueEmpty():\n",
    "    global SIZE,queue,front,rear\n",
    "    if(front == rear):\n",
    "        return True\n",
    "    else:\n",
    "        return False\n",
    "def enQueue(data):\n",
    "    global SIZE,queue,front,rear\n",
    "    if(isQueueFull()):\n",
    "        print(\"큐가 꽉 찼습니다.\")\n",
    "        return\n",
    "    rear += 1    \n",
    "    queue[rear] = data\n",
    "def deQueue():\n",
    "    global SIZE,queue,front,rear\n",
    "    if(isQueueEmpty()):\n",
    "        print(\"큐가 비었습니다.\")\n",
    "        return\n",
    "    front += 1\n",
    "    data = queue[front]\n",
    "    queue[front] = None\n",
    "    return data  \n",
    "def peek():\n",
    "    global SIZE,queue,front,rear\n",
    "    if(isQueueEmpty()):\n",
    "        print(\"큐가 비었습니다.\")\n",
    "        return None\n",
    "    return queue[front+1]\n",
    "\n",
    "SIZE = int(input(\"큐의 크기를 입력하시오 ====> \"))\n",
    "queue = [None for _ in range(SIZE)]\n",
    "front = rear = -1\n",
    "\n",
    "\n",
    "if __name__ == \"__main__\":\n",
    "    \n",
    "    select = input(\"삽입(I)/추출(O)/확인(C)/종료(E) 중 하나를 선택 -------->\")\n",
    "\n",
    "    while(select != \"E\" and select != \"e\"):\n",
    "        \n",
    "        if select == \"I\" or select == \"i\":\n",
    "            data = input(\"입력할 데이터 --->\")\n",
    "            enQueue(data)\n",
    "            print(\"큐의 상태: \",queue)\n",
    "        \n",
    "        elif select == \"O\" or select == \"o\":\n",
    "            data = deQueue()\n",
    "            print(\"추출된 데이터 ----> \", data)\n",
    "            print(\"큐의 상태: \",queue)\n",
    "        \n",
    "        elif select == \"C\" or select == \"c\":\n",
    "            data = peek()\n",
    "            print(\"확인된 데이터 ----> \", data)\n",
    "            print(\"큐의 상태: \",queue)\n",
    "        \n",
    "        else :\n",
    "            print(\"다시 선택 하시오.\")\n",
    "\n",
    "\n",
    "        select = input(\"삽입(I)/추출(O)/확인(C)/종료(E) 중 하나를 선택 -------->\")\n",
    "\n",
    "    print(\"프로그램 종료\")    "
   ]
  },
  {
   "cell_type": "markdown",
   "metadata": {},
   "source": [
    "### 원형 큐 구현\n",
    "\n",
    "* 원형 큐에서는 front와 rear이 붙어있다."
   ]
  },
  {
   "cell_type": "code",
   "execution_count": 9,
   "metadata": {},
   "outputs": [
    {
     "name": "stdout",
     "output_type": "stream",
     "text": [
      "큐의 상태:  [None, '화사', None, None, None]\n",
      "front:  0 , rear:  1\n",
      "큐의 상태:  [None, '화사', '솔라', None, None]\n",
      "front:  0 , rear:  2\n",
      "큐의 상태:  [None, '화사', '솔라', '문별', None]\n",
      "front:  0 , rear:  3\n",
      "큐의 상태:  [None, '화사', '솔라', '문별', '휘인']\n",
      "front:  0 , rear:  4\n",
      "큐가 꽉 찼습니다.\n",
      "큐의 상태:  [None, '화사', '솔라', '문별', '휘인']\n",
      "front:  0 , rear:  4\n",
      "추출된 데이터 ---->  화사\n",
      "큐의 상태:  [None, None, '솔라', '문별', '휘인']\n",
      "front:  1 , rear:  4\n",
      "큐의 상태:  ['재남', None, '솔라', '문별', '휘인']\n",
      "front:  1 , rear:  0\n",
      "추출된 데이터 ---->  솔라\n",
      "큐의 상태:  ['재남', None, None, '문별', '휘인']\n",
      "front:  2 , rear:  0\n",
      "프로그램 종료\n"
     ]
    }
   ],
   "source": [
    "def isQueueFull():\n",
    "    global SIZE,queue,front,rear\n",
    "    if((rear+1)%SIZE ==  front): # 자리가 꽉 찼을 경우\n",
    "        return True\n",
    "    else:\n",
    "        return False \n",
    "\n",
    "def isQueueEmpty():\n",
    "    global SIZE,queue,front,rear\n",
    "    if(front == rear):\n",
    "        return True\n",
    "    else:\n",
    "        return False\n",
    "def enQueue(data):\n",
    "    global SIZE,queue,front,rear\n",
    "    if(isQueueFull()):\n",
    "        print(\"큐가 꽉 찼습니다.\")\n",
    "        return\n",
    "    rear  = (rear+1) % SIZE\n",
    "    queue[rear] = data\n",
    "\n",
    "def deQueue():\n",
    "    global SIZE,queue,front,rear\n",
    "    if(isQueueEmpty()):\n",
    "        print(\"큐가 비었습니다.\")\n",
    "        return\n",
    "    front  = (front+1)%SIZE\n",
    "    data = queue[front]\n",
    "    queue[front] = None\n",
    "    return data  \n",
    "\n",
    "def peek():\n",
    "    global SIZE,queue,front,rear\n",
    "    if(isQueueEmpty()):\n",
    "        print(\"큐가 비었습니다.\")\n",
    "        return None\n",
    "    return queue[(front+1)%SIZE]\n",
    "\n",
    "SIZE = int(input(\"큐의 크기를 입력하시오 ====> \"))\n",
    "queue = [ None for _ in range(SIZE)]\n",
    "front = rear = 0\n",
    "\n",
    "\n",
    "if __name__ == \"__main__\":\n",
    "    \n",
    "    select = input(\"삽입(I)/추출(O)/확인(C)/종료(E) 중 하나를 선택 -------->\")\n",
    "\n",
    "    while(select != \"E\" and select != \"e\"):\n",
    "        \n",
    "        if select == \"I\" or select == \"i\":\n",
    "            data = input(\"입력할 데이터 --->\")\n",
    "            enQueue(data)\n",
    "            print(\"큐의 상태: \",queue)\n",
    "            print(\"front: \", front,\", rear: \",rear)\n",
    "        \n",
    "        elif select == \"O\" or select == \"o\":\n",
    "            data = deQueue()\n",
    "            print(\"추출된 데이터 ----> \", data)\n",
    "            print(\"큐의 상태: \",queue)\n",
    "            print(\"front: \", front,\", rear: \",rear)\n",
    "        \n",
    "        elif select == \"C\" or select == \"c\":\n",
    "            data = peek()\n",
    "            print(\"확인된 데이터 ----> \", data)\n",
    "            print(\"큐의 상태: \",queue)\n",
    "            print(\"front: \", front,\", rear: \",rear)\n",
    "        \n",
    "        else :\n",
    "            print(\"다시 선택 하시오.\")\n",
    "\n",
    "\n",
    "        select = input(\"삽입(I)/추출(O)/확인(C)/종료(E) 중 하나를 선택 -------->\")\n",
    "\n",
    "    print(\"프로그램 종료\")    "
   ]
  }
 ],
 "metadata": {
  "kernelspec": {
   "display_name": "Python 3.10.6 64-bit",
   "language": "python",
   "name": "python3"
  },
  "language_info": {
   "codemirror_mode": {
    "name": "ipython",
    "version": 3
   },
   "file_extension": ".py",
   "mimetype": "text/x-python",
   "name": "python",
   "nbconvert_exporter": "python",
   "pygments_lexer": "ipython3",
   "version": "3.10.6"
  },
  "orig_nbformat": 4,
  "vscode": {
   "interpreter": {
    "hash": "aee8b7b246df8f9039afb4144a1f6fd8d2ca17a180786b69acc140d282b71a49"
   }
  }
 },
 "nbformat": 4,
 "nbformat_minor": 2
}
