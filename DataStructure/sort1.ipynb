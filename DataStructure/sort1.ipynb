{
 "cells": [
  {
   "cell_type": "markdown",
   "metadata": {},
   "source": [
    "## 기본 정렬 알고리즘"
   ]
  },
  {
   "cell_type": "markdown",
   "metadata": {},
   "source": [
    "### 선택 정렬\n",
    "\n",
    "* 가장 큰 원소를 찾아 리스트의 맨끝으로 정렬"
   ]
  },
  {
   "cell_type": "code",
   "execution_count": null,
   "metadata": {},
   "outputs": [],
   "source": [
    "def selectionSort(A):\n",
    "    for last in range(len(A)-1,0,-1):\n",
    "        k = theLargest(A,last)\n",
    "        A[k],A[last] = A[last],A[k]\n",
    "\n",
    "def theLargest(A,last:int) -> int:\n",
    "    largest = 0\n",
    "    for i in range(last+1):\n",
    "        if A[i] > A[largest]:\n",
    "            largest = i\n",
    "    return largest        \n"
   ]
  },
  {
   "cell_type": "markdown",
   "metadata": {},
   "source": [
    "### 버블 정렬\n",
    "\n",
    "* 선택정렬과 비슷\n",
    "* 제일 큰 원소를 옮기는 방법이 다르다"
   ]
  },
  {
   "cell_type": "code",
   "execution_count": null,
   "metadata": {},
   "outputs": [],
   "source": [
    "def bubbleSort(A):\n",
    "    for numElement in range(len(A),0,-1):\n",
    "        for i in range(numElement-1):\n",
    "            if A[i] > A[i+1]:\n",
    "                A[i],A[i+1] = A[i+1],A[i]"
   ]
  },
  {
   "cell_type": "markdown",
   "metadata": {},
   "source": [
    "### 삽입 정렬\n",
    "\n",
    "* 선택 정렬 버블 정렬과 정반대로 착상\n",
    "* 정렬된 리스트의 크기를 1에서 시작해서 끝까지 늘림\n",
    "* i개 짜리 리스트에서 i+1의 정렬된 리스트"
   ]
  },
  {
   "cell_type": "code",
   "execution_count": null,
   "metadata": {},
   "outputs": [],
   "source": [
    "def insertSort(A):\n",
    "    for i in range(1,len(A)):\n",
    "        location = i-1 # 앞의 원소\n",
    "        data = A[i] # 뒤의 원소\n",
    "        while location >= 0 and data < A[location]: # 뒤 원소가 앞 원소보다 작을때 까지\n",
    "            A[location+1] = A[location] # 하나씩 뒤로 옮기기\n",
    "            location -= 1 # 위치 앞으로 옮기기\n",
    "        A[location+1] = data   # 뒤 원소가 앞 원소보다 작으면 앞 원소 자리에 뒤 원소 데이터 입력\n",
    "\n"
   ]
  },
  {
   "cell_type": "markdown",
   "metadata": {},
   "source": [
    "### 선택/버블/삽입 정렬의 비교"
   ]
  },
  {
   "cell_type": "code",
   "execution_count": 2,
   "metadata": {},
   "outputs": [
    {
     "name": "stdout",
     "output_type": "stream",
     "text": [
      "time for insertion sort :  45.08390974998474\n",
      "time for bubble sort :  62.037379026412964\n",
      "time for selection sort :  50.134846925735474\n"
     ]
    }
   ],
   "source": [
    "from random import randrange\n",
    "import time\n",
    "\n",
    "def selectionSort(A):\n",
    "    for last in range(len(A)-1,0,-1):\n",
    "        k = theLargest(A,last)\n",
    "        A[k],A[last] = A[last],A[k]\n",
    "\n",
    "def theLargest(A,last:int) -> int:\n",
    "    largest = 0\n",
    "    for i in range(last+1):\n",
    "        if A[i] > A[largest]:\n",
    "            largest = i\n",
    "    return largest   \n",
    "\n",
    "def bubbleSort(A):\n",
    "    for numElement in range(len(A),0,-1):\n",
    "        for i in range(numElement-1):\n",
    "            if A[i] > A[i+1]:\n",
    "                A[i],A[i+1] = A[i+1],A[i]    \n",
    "\n",
    "def insertSort(A):\n",
    "    for i in range(1,len(A)):\n",
    "        location = i-1 # 앞의 원소\n",
    "        data = A[i] # 뒤의 원소\n",
    "        while location >= 0 and data < A[location]: # 뒤 원소가 앞 원소보다 작을때 까지\n",
    "            A[location+1] = A[location] # 하나씩 뒤로 옮기기\n",
    "            location -= 1 # 위치 앞으로 옮기기\n",
    "        A[location+1] = data   # 뒤 원소가 앞 원소보다 작으면 앞 원소 자리에 뒤 원소 데이터 입력                \n",
    "\n",
    "a = []\n",
    "for i in range(50000):\n",
    "    a.append(randrange(100000))\n",
    "\n",
    "b = a\n",
    "c = a\n",
    "\n",
    "\n",
    "start1 = time.time()\n",
    "insertSort(a)\n",
    "print(\"time for insertion sort : \", time.time()-start1)\n",
    "\n",
    "start2 = time.time()\n",
    "bubbleSort(b)\n",
    "print(\"time for bubble sort : \",time.time()-start2)\n",
    "\n",
    "start3 = time.time()\n",
    "selectionSort(c)\n",
    "print(\"time for selection sort : \",time.time()-start3)"
   ]
  },
  {
   "cell_type": "markdown",
   "metadata": {},
   "source": [
    "## 고급 정렬 알고리즘"
   ]
  },
  {
   "cell_type": "markdown",
   "metadata": {},
   "source": [
    "### 병합 정렬\n",
    "\n",
    "* 입력을 반으로 나눈다\n",
    "* 전반부와 후반부를 각각 독립적으로 정렬, 정렬된 부분들을 합침\n",
    "* 전반부,후반부도 각각 반으로 나눈다음 정렬해서 병합\n",
    " \n",
    "* 단점: 보조 리스트가 필요하다"
   ]
  },
  {
   "cell_type": "code",
   "execution_count": null,
   "metadata": {},
   "outputs": [],
   "source": [
    "def mergeSort(A,p:int,r:int):\n",
    "    if p < r:\n",
    "        q = (p+r)//2\n",
    "        mergeSort(A,p,q)\n",
    "        mergeSort(A,q+1,r)\n",
    "        merge(A,p,q,r)\n",
    "\n",
    "def merge(A,p:int,q:int,r:int):\n",
    "    i=p; j=q+1; t = 0\n",
    "    tmp = [0 for i in range(len(A))]\n",
    "    while i<= q and j<=r:\n",
    "        if(A[i]<=A[j]): # A1의 n번째 원소가 A2의 n번째 원소보다 작으면\n",
    "            tmp[t] = A[i] # A의 n번째 원소 추가\n",
    "            t += 1; i += 1\n",
    "        else:\n",
    "            tmp[t] = A[j] # 아닐 경우 A2의 n번째 원소 추가\n",
    "            t += 1; j+= 1\n",
    "    while i <= q: # A1의 리스트가 남은 경우\n",
    "        tmp[t] = A[i]\n",
    "        t += 1; i += 1\n",
    "    while j <= r: # A2의 리스트가 남은 경우\n",
    "        tmp[t] = A[j]\n",
    "        t += 1; j+= 1\n",
    "\n",
    "    i = p; t = 0    # 초기화\n",
    "    while i <= r : # 처음부터 끝까지\n",
    "        A[i] = tmp[t] # A로 복사\n",
    "        i+= 1; t+= 1\n",
    "        "
   ]
  },
  {
   "cell_type": "markdown",
   "metadata": {},
   "source": [
    "### 퀵 정렬\n",
    "\n",
    "* 선행 작업을 한 다음 재귀적으로 작은 문제를 해결한다.\n",
    "* 기준 원소를 잡아 큰 그릅과 작은 그룹으로 나누고 기준원소의 좌우로 분할한 다음 각각을 정렬"
   ]
  },
  {
   "cell_type": "code",
   "execution_count": null,
   "metadata": {},
   "outputs": [],
   "source": [
    "\n",
    "def quickSort(A,p:int,r:int):\n",
    "    if p < r:\n",
    "        q = partition(A,p,r) # 분할\n",
    "        # q = 기준 원소의 인덱스\n",
    "        quickSort(A,p,q-1) # 기준 원소 이전 부분 리스트 정렬\n",
    "        quickSort(A,q+1,r) # 기준 원소 이후 부분 리스트 정렬\n",
    "\n",
    "def partition(A,p:int,r:int) -> int:\n",
    "    x = A[r] # 기준 원소        \n",
    "    i = p-1 # i는 1구역의 끝지점\n",
    "    \n",
    "    for j in range(p,r): # 3구역 끝지점 까지\n",
    "        if A[j] < x: # 아직 판단되지 않은 원소가 기준 원소보다 작으면\n",
    "            i += 1 # 인덱스 추가후\n",
    "            A[i],A[j] = A[j],A[i] # 원소 교환\n",
    "    A[i+1],A[r] = A[r],A[i+1] # 기준원소와 2구역 첫 원소 교환 (기준원소가 자기보다 작은 원소와 큰 원소 사이에 오게끔)\n",
    "    return i+1  # 기준원소의 인덱스 return \n",
    "         "
   ]
  },
  {
   "cell_type": "markdown",
   "metadata": {},
   "source": [
    "### 힙 정렬\n",
    "\n",
    "* 힙 자료구조를 사용하여 정렬"
   ]
  },
  {
   "cell_type": "code",
   "execution_count": null,
   "metadata": {},
   "outputs": [],
   "source": [
    "def percolateDown(A,k:int,end:int):\n",
    "    child = 2*k +1\n",
    "    right = 2*k +2\n",
    "\n",
    "    if child <= end :\n",
    "        if right <= end and A[child] < A[right]:\n",
    "            child = right\n",
    "        if A[k] < A[child]:\n",
    "            A[k],A[child] = A[child],A[k]\n",
    "            percolateDown(A,child,end)\n",
    "\n",
    "def buildHeap(A):\n",
    "    for i in range((len(A)-2)//2,-1,1):\n",
    "        percolateDown(A,i,len(A)-1)\n",
    "\n",
    "\n",
    "def heapSort(A):\n",
    "    buildHeap(A)\n",
    "    for last in range (len(A)-1,0,-1):\n",
    "        A[last],A[0] = A[0],A[last]\n",
    "        percolateDown(A,0,last-1)\n"
   ]
  },
  {
   "cell_type": "markdown",
   "metadata": {},
   "source": [
    "### 셀 정렬\n",
    "\n",
    "* 평균 n^2 시간이 들고 운이 좋으면 n 시간이 든다.\n",
    "* 마지막에 삽입정렬 사용\n",
    "* 끼워넣는 비용이 적을수록 시간이 적게듦"
   ]
  },
  {
   "cell_type": "code",
   "execution_count": null,
   "metadata": {},
   "outputs": [],
   "source": [
    "def shellSort(A):\n",
    "    H = gapSequence(len(A))\n",
    "    for h in H: # H = [h0,h1,h2....] 갭 수열\n",
    "        for k in range(h):\n",
    "            stepInsertionSort(A,k,h)\n",
    "\n",
    "def gapSequence(n:int):\n",
    "    H = [1]\n",
    "    gap = 1\n",
    "    while gap < n/5:\n",
    "        gap = 3 * gap +1\n",
    "        H.append(gap)\n",
    "    H.reverse()\n",
    "    return H\n",
    "\n",
    "\n",
    "def stepInsertionSort(A,k:int,h:int): # A[k,k+h,k+2h ... ] 정렬\n",
    "    for i in range(k+h,len(A),h):\n",
    "        j = i - h\n",
    "        data = A[i]\n",
    "\n",
    "        while 0 <= j and data < A[j]:\n",
    "            A[j+h] = A[j]\n",
    "            j -= h\n",
    "        A[j+h] = data\n"
   ]
  },
  {
   "cell_type": "markdown",
   "metadata": {},
   "source": [
    "## 데이터 특성을 잘 이용하는 정렬 알고리즘"
   ]
  },
  {
   "cell_type": "markdown",
   "metadata": {},
   "source": [
    "### 계수 정렬"
   ]
  },
  {
   "cell_type": "code",
   "execution_count": null,
   "metadata": {},
   "outputs": [],
   "source": [
    "def countingSort(A):\n",
    "    k = max(A)\n",
    "    C = [0 for _ in range(k+1)]\n",
    "    for j in range(len(A)):\n",
    "        C[A[j]] += 1\n",
    "    for i in range(1, k+1):\n",
    "        C[i] = C[i] +C[i-1]\n",
    "    B = [0 for _ in range(len(A))]\n",
    "    for j in range(len(A)-1,-1,-1):\n",
    "        B[C[A[j]]-1] = A[j]\n",
    "        C[A[j]] -= 1\n",
    "    return B            "
   ]
  },
  {
   "cell_type": "markdown",
   "metadata": {},
   "source": [
    "### 기수 정렬"
   ]
  },
  {
   "cell_type": "code",
   "execution_count": null,
   "metadata": {},
   "outputs": [],
   "source": [
    "import math\n",
    "\n",
    "def radixSort(A):\n",
    "    maxValue = max(A)\n",
    "    numDigits = math.ceil(math.log10(maxValue))\n",
    "    bucket = [[] for _ in range(10)]\n",
    "    for i in range(numDigits):\n",
    "        for x in A:\n",
    "            y = (x//10**i) %10\n",
    "            bucket[y].append(x)\n",
    "        A.clear()\n",
    "        for j in range(10):\n",
    "            A.extend(bucket[j])\n",
    "            bucket[j].clear()    "
   ]
  },
  {
   "cell_type": "markdown",
   "metadata": {},
   "source": [
    "### 버킷 정렬"
   ]
  },
  {
   "cell_type": "code",
   "execution_count": null,
   "metadata": {},
   "outputs": [],
   "source": [
    "import math\n",
    "\n",
    "def insertSort(A):\n",
    "    for i in range(1,len(A)):\n",
    "        location = i-1 # 앞의 원소\n",
    "        data = A[i] # 뒤의 원소\n",
    "        while location >= 0 and data < A[location]: # 뒤 원소가 앞 원소보다 작을때 까지\n",
    "            A[location+1] = A[location] # 하나씩 뒤로 옮기기\n",
    "            location -= 1 # 위치 앞으로 옮기기\n",
    "        A[location+1] = data   # 뒤 원소가 앞 원소보다 작으면 앞 원소 자리에 뒤 원소 데이터 입력 \n",
    "\n",
    "def bucketSort(A):\n",
    "    n = len(A)\n",
    "    B = [[] for _ in range(n)]\n",
    "    for i in range(n):\n",
    "        B[math.floor(n*A[i])].append(A[i])\n",
    "    A.clear()\n",
    "    for i in range(n):\n",
    "        insertSort(B[i])\n",
    "        A.extend(B[i])    "
   ]
  }
 ],
 "metadata": {
  "kernelspec": {
   "display_name": "Python 3.10.6 64-bit",
   "language": "python",
   "name": "python3"
  },
  "language_info": {
   "codemirror_mode": {
    "name": "ipython",
    "version": 3
   },
   "file_extension": ".py",
   "mimetype": "text/x-python",
   "name": "python",
   "nbconvert_exporter": "python",
   "pygments_lexer": "ipython3",
   "version": "3.10.6"
  },
  "orig_nbformat": 4,
  "vscode": {
   "interpreter": {
    "hash": "aee8b7b246df8f9039afb4144a1f6fd8d2ca17a180786b69acc140d282b71a49"
   }
  }
 },
 "nbformat": 4,
 "nbformat_minor": 2
}
