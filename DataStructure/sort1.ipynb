{
 "cells": [
  {
   "cell_type": "markdown",
   "metadata": {},
   "source": [
    "## 기본 정렬 알고리즘"
   ]
  },
  {
   "cell_type": "markdown",
   "metadata": {},
   "source": [
    "### 선택 정렬\n",
    "\n",
    "* 가장 큰 원소를 찾아 리스트의 맨끝으로 정렬"
   ]
  },
  {
   "cell_type": "code",
   "execution_count": null,
   "metadata": {},
   "outputs": [],
   "source": [
    "def selectionSort(A):\n",
    "    for last in range(len(A)-1,0,-1):\n",
    "        k = theLargest(A,last)\n",
    "        A[k],A[last] = A[last],A[k]\n",
    "\n",
    "def theLargest(A,last:int) -> int:\n",
    "    largest = 0\n",
    "    for i in range(last+1):\n",
    "        if A[i] > A[largest]:\n",
    "            largest = i\n",
    "    return largest        \n"
   ]
  },
  {
   "cell_type": "markdown",
   "metadata": {},
   "source": [
    "### 버블 정렬\n",
    "\n",
    "* 선택정렬과 비슷\n",
    "* 제일 큰 원소를 옮기는 방법이 다르다"
   ]
  },
  {
   "cell_type": "code",
   "execution_count": null,
   "metadata": {},
   "outputs": [],
   "source": [
    "def bubbleSort(A):\n",
    "    for numElement in range(len(A),0,-1):\n",
    "        for i in range(numElement-1):\n",
    "            if A[i] > A[i+1]:\n",
    "                A[i],A[i+1] = A[i+1],A[i]"
   ]
  },
  {
   "cell_type": "markdown",
   "metadata": {},
   "source": [
    "### 삽입 정렬\n",
    "\n",
    "* 선택 정렬 버블 정렬과 정반대로 착상\n",
    "* 정렬된 리스트의 크기를 1에서 시작해서 끝까지 늘림\n",
    "* i개 짜리 리스트에서 i+1의 정렬된 리스트"
   ]
  },
  {
   "cell_type": "code",
   "execution_count": null,
   "metadata": {},
   "outputs": [],
   "source": [
    "def insertSort(A):\n",
    "    for i in range(1,len(A)):\n",
    "        location = i-1 # 앞의 원소\n",
    "        data = A[i] # 뒤의 원소\n",
    "        while location >= 0 and data < A[location]: # 뒤 원소가 앞 원소보다 작을때 까지\n",
    "            A[location+1] = A[location] # 하나씩 뒤로 옮기기\n",
    "            location -= 1 # 위치 앞으로 옮기기\n",
    "        A[location+1] = data   # 뒤 원소가 앞 원소보다 작으면 앞 원소 자리에 뒤 원소 데이터 입력\n",
    "\n"
   ]
  },
  {
   "cell_type": "markdown",
   "metadata": {},
   "source": [
    "## 고급 정렬 알고리즘"
   ]
  },
  {
   "cell_type": "markdown",
   "metadata": {},
   "source": [
    "### 병합 정렬\n",
    "\n",
    "* 입력을 반으로 나눈다\n",
    "* 전반부와 후반부를 각각 독립적으로 정렬, 정렬된 부분들을 합침\n",
    "* 전반부,후반부도 각각 반으로 나눈다음 정렬해서 병합\n",
    " \n",
    "* 단점: 보조 리스트가 필요하다"
   ]
  },
  {
   "cell_type": "code",
   "execution_count": null,
   "metadata": {},
   "outputs": [],
   "source": [
    "def mergeSort(A,p:int,r:int):\n",
    "    if p < r:\n",
    "        q = (p+r)//2\n",
    "        mergeSort(A,p,q)\n",
    "        mergeSort(A,q+1,r)\n",
    "        merge(A,p,q,r)\n",
    "\n",
    "def merge(A,p:int,q:int,r:int):\n",
    "    i=p; j=q+1; t = 0\n",
    "    tmp = [0 for i in range(len(A))]\n",
    "    while i<= q and j<=r:\n",
    "        if(A[i]<=A[j]): # A1의 n번째 원소가 A2의 n번째 원소보다 작으면\n",
    "            tmp[t] = A[i] # A의 n번째 원소 추가\n",
    "            t += 1; i += 1\n",
    "        else:\n",
    "            tmp[t] = A[j] # 아닐 경우 A2의 n번째 원소 추가\n",
    "            t += 1; j+= 1\n",
    "    while i <= q: # A1의 리스트가 남은 경우\n",
    "        tmp[t] = A[i]\n",
    "        t += 1; i += 1\n",
    "    while j <= r: # A2의 리스트가 남은 경우\n",
    "        tmp[t] = A[j]\n",
    "        t += 1; j+= 1\n",
    "\n",
    "    i = p; t = 0    # 초기화\n",
    "    while i <= r : # 처음부터 끝까지\n",
    "        A[i] = tmp[t] # A로 복사\n",
    "        i+= 1; t+= 1\n",
    "        "
   ]
  },
  {
   "cell_type": "markdown",
   "metadata": {},
   "source": [
    "### 퀵 정렬\n",
    "\n",
    "* 선행 작업을 한 다음 재귀적으로 작은 문제를 해결한다.\n",
    "* 기준 원소를 잡아 큰 그릅과 작은 그룹으로 나누고 기준원소의 좌우로 분할한 다음 각각을 정렬"
   ]
  },
  {
   "cell_type": "code",
   "execution_count": null,
   "metadata": {},
   "outputs": [],
   "source": [
    "\n",
    "def quickSort(A,p:int,r:int):\n",
    "    if p < r:\n",
    "        q = partition(A,p,r)\n",
    "        quickSort(A,p,q-1)\n",
    "        quickSort(A,q+1,r)\n",
    "\n",
    "def partition(A,p:int,r:int) -> int:\n",
    "    x = A[r]\n",
    "    i = p-1\n",
    "    for j in range(p,r):\n",
    "        if A[j] < x:\n",
    "            i += 1\n",
    "            A[i],A[j] = A[j],A[i]\n",
    "    A[i+1],A[r] = A[r],A[i+1]\n",
    "    return i+1 \n",
    "         "
   ]
  }
 ],
 "metadata": {
  "language_info": {
   "name": "python"
  },
  "orig_nbformat": 4
 },
 "nbformat": 4,
 "nbformat_minor": 2
}
