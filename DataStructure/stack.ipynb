{
 "cells": [
  {
   "cell_type": "markdown",
   "metadata": {},
   "source": [
    "### 60205210 오민수 데이터 구조 과제"
   ]
  },
  {
   "cell_type": "markdown",
   "metadata": {},
   "source": [
    "### class linkedListBasic에서 나오는 모든 method룰 사용하여 연결리스트가 잘 동작하는지"
   ]
  },
  {
   "cell_type": "code",
   "execution_count": 1,
   "metadata": {},
   "outputs": [
    {
     "name": "stdout",
     "output_type": "stream",
     "text": [
      "count(3): 2\n",
      "get(2): 3\n",
      "2 3 3 4 30 20 \n"
     ]
    }
   ],
   "source": [
    "from matplotlib.widgets import EllipseSelector\n",
    "\n",
    "\n",
    "class ListNode:\n",
    "    def __init__(self,newItem,nextNode:'ListNode'): #nextNode가 ListNode임을 방어적으로 알려줌\n",
    "        self.item = newItem\n",
    "        self.next = nextNode\n",
    "\n",
    "class LinkedListBasic:\n",
    "    def __init__(self):\n",
    "        self.__head = ListNode('dummy',None)\n",
    "        self.__numItems = 0\n",
    "\n",
    "    def insert(self,i:int,newItem):\n",
    "        if i >=0 and i <= self.__numItems:\n",
    "            prev = self.__getNode(i-1)\n",
    "            newNode = ListNode(newItem,prev.next)\n",
    "            prev.next = newNode\n",
    "            self.__numItems += 1\n",
    "        else :\n",
    "            print(\"index\",i,\": insert()범위를 벗어났습니다.\")\n",
    "\n",
    "    def append(self,newItem):\n",
    "        prev = self.__getNode(self.__numItems -1)\n",
    "        newNode = ListNode(newItem,prev.next)\n",
    "        prev.next = newNode\n",
    "        self.__numItems += 1\n",
    "\n",
    "    def pop(self,i:int):\n",
    "        if(i>=0 and i<= self.__numItems -1):\n",
    "            prev = self.__getNode(i-1)\n",
    "            curr = prev.next\n",
    "            prev.next = curr.next\n",
    "            retItem = curr.item\n",
    "            self.__numItems -= 1\n",
    "            return retItem\n",
    "        else:\n",
    "            return None\n",
    "\n",
    "    def remove(self,x):\n",
    "        (prev,curr) = self.__findNode(x)\n",
    "        if curr != None:\n",
    "            prev.next = curr.next\n",
    "            self.__numItems -= 1\n",
    "            return x\n",
    "        else:\n",
    "            return None\n",
    "\n",
    "    def get(self,i:int):\n",
    "        if self.isEmpty():\n",
    "            return None\n",
    "        if (i>=0 and i<= self.__numItems -1):\n",
    "            return self.__getNode(i).item\n",
    "        else:\n",
    "            return None\n",
    "\n",
    "    def index(self,x):\n",
    "        curr = self.__head.next\n",
    "        for index in range(self.__numItems):\n",
    "            if curr.item == x:\n",
    "                return index\n",
    "            else:\n",
    "                curr = curr.next\n",
    "\n",
    "    def isEmpty(self) -> bool:\n",
    "        return self.__numItems == 0\n",
    "    def size(self) -> int:\n",
    "        return self.__numItems\n",
    "    def clear(self):\n",
    "        self.__head = ListNode(\"dummy\",None)\n",
    "        self.__numItems = 0\n",
    "    def count(self,x) -> int:\n",
    "        cnt = 0\n",
    "        curr = self.__head.next\n",
    "        while curr != None:\n",
    "            if curr.item == x:\n",
    "                cnt += 1\n",
    "            curr = curr.next\n",
    "        return cnt\n",
    "    def extend(self,a):\n",
    "        for index in range(a.size()):\n",
    "            self.append(a.get(index))\n",
    "\n",
    "    def copy(self):\n",
    "        a = LinkedListBasic()\n",
    "        for index in range(self.__numItems):\n",
    "            a.append(self.get(index))\n",
    "        return a\n",
    "    def reverse(self):\n",
    "        a = LinkedListBasic()\n",
    "        for index in range(self.__numItems):\n",
    "            a.insert(0,self.get(index))\n",
    "        self.clear()\n",
    "        for index in range(a.size()):\n",
    "            self.append(a.get(index))\n",
    "\n",
    "    def sort(self) -> None:\n",
    "        a = []\n",
    "        for index in range(self.__numitems):\n",
    "            a.append(self.get(index))\n",
    "        a.sort()\n",
    "        self.clear()\n",
    "        for index in range(len(a)):\n",
    "            self.append(a[index])\n",
    "\n",
    "    def __findNode(self,x):\n",
    "        prev = self.__head\n",
    "        curr = prev.next\n",
    "        while curr != None:\n",
    "            if curr.item == x:\n",
    "                return(prev,curr)\n",
    "            else:\n",
    "                prev = curr;\n",
    "                curr= curr.next\n",
    "        return (None,None)\n",
    "    def __getNode(self,i:int) ->ListNode:\n",
    "        curr = self.__head\n",
    "        for index in range(i+1):\n",
    "            curr = curr.next\n",
    "        return curr\n",
    "    def printList(self):\n",
    "        curr = self.__head.next\n",
    "        while curr != None:\n",
    "            print(curr.item,end=\" \")\n",
    "            curr = curr.next\n",
    "        print()           \n",
    "\n",
    "\n",
    "if __name__ == \"__main__\":\n",
    "    list = LinkedListBasic()\n",
    "    list.append(30)\n",
    "    list.insert(0,20)\n",
    "    a = LinkedListBasic()\n",
    "    a.append(4)\n",
    "    a.append(3)\n",
    "    a.append(3)\n",
    "    a.append(2)\n",
    "    a.append(1)\n",
    "    list.extend(a)\n",
    "    list.reverse()\n",
    "    list.pop(0)\n",
    "\n",
    "    print(\"count(3):\",list.count(3))  \n",
    "    print(\"get(2):\", list.get(2))\n",
    "    list.printList()\n",
    "    \n",
    "\n"
   ]
  },
  {
   "cell_type": "markdown",
   "metadata": {},
   "source": [
    "### 2. 리스트에서 더미헤드를 썼을 때의 장점\n",
    "\n",
    "* 맨 앞에서 데이터를 입력하거나 삭제할 경우 두가지 경우로 나누어서 코딩을 하지 않아도 한가지로 코딩할 수 있다."
   ]
  },
  {
   "cell_type": "markdown",
   "metadata": {},
   "source": [
    "### 3. 프로그램의 수행시간을 표기하는 코드"
   ]
  },
  {
   "cell_type": "code",
   "execution_count": 4,
   "metadata": {},
   "outputs": [
    {
     "name": "stdout",
     "output_type": "stream",
     "text": [
      "time : 2.7179718017578125e-05\n"
     ]
    }
   ],
   "source": [
    "import time\n",
    "start = time.time()  # 시작 시간 저장\n",
    "print(\"time :\", time.time() - start)  # 현재시각 - 시작시간 = 실행 시간"
   ]
  },
  {
   "cell_type": "markdown",
   "metadata": {},
   "source": [
    "### 4. 배열리스트와 연결리스트의 시간비교\n",
    "* Array List time =>  0.048514842837425 >>>> Linked Array time => 0.00029397010803222656\n",
    "* 연결 리스트가 훨씬 빠르다."
   ]
  },
  {
   "cell_type": "code",
   "execution_count": 7,
   "metadata": {},
   "outputs": [
    {
     "name": "stdout",
     "output_type": "stream",
     "text": [
      "Array List time : 7.200241088867188e-05\n",
      "Linked Array time:  0.00029397010803222656\n"
     ]
    }
   ],
   "source": [
    "import time\n",
    "st_array = time.time()\n",
    "array_list = []\n",
    "for i in range(1,101):\n",
    "    array_list.append(i)\n",
    "    \n",
    "print(\"Array List time :\", time.time() - st_array)\n",
    "\n",
    "st_linked = time.time()\n",
    "Linked_list = LinkedListBasic()\n",
    "for i in range(1,101):\n",
    "    Linked_list.append(i)\n",
    "print(\"Linked Array time: \",time.time()-st_linked)\n"
   ]
  },
  {
   "cell_type": "markdown",
   "metadata": {},
   "source": [
    "### 5. 배열리스트와 연결리스트 삭제 시간비교\n",
    "\n",
    "* Array List time : 4.792213439941406e-05 >>> Linked Array time:  4.291534423828125e-05\n",
    "* 연결 리스트의 시간이 더 짧다.\n"
   ]
  },
  {
   "cell_type": "code",
   "execution_count": 25,
   "metadata": {},
   "outputs": [
    {
     "name": "stdout",
     "output_type": "stream",
     "text": [
      "Array List time : 4.792213439941406e-05\n",
      "Linked Array time:  4.291534423828125e-05\n"
     ]
    }
   ],
   "source": [
    "import time\n",
    "\n",
    "\n",
    "pop_array = time.time()\n",
    "for i in range(len(array_list)):\n",
    "    array_list.pop(0)\n",
    "print(\"Array List time :\", time.time() - pop_array)\n",
    "\n",
    "pop_linked = time.time()\n",
    "for i in range(Linked_list.size()):\n",
    "    Linked_list.pop(0)\n",
    "print(\"Linked Array time: \",time.time()-pop_linked)  "
   ]
  }
 ],
 "metadata": {
  "kernelspec": {
   "display_name": "Python 3.10.6 64-bit",
   "language": "python",
   "name": "python3"
  },
  "language_info": {
   "codemirror_mode": {
    "name": "ipython",
    "version": 3
   },
   "file_extension": ".py",
   "mimetype": "text/x-python",
   "name": "python",
   "nbconvert_exporter": "python",
   "pygments_lexer": "ipython3",
   "version": "3.10.6"
  },
  "orig_nbformat": 4,
  "vscode": {
   "interpreter": {
    "hash": "aee8b7b246df8f9039afb4144a1f6fd8d2ca17a180786b69acc140d282b71a49"
   }
  }
 },
 "nbformat": 4,
 "nbformat_minor": 2
}
