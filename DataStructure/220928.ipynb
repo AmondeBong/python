{
 "cells": [
  {
   "cell_type": "markdown",
   "metadata": {},
   "source": [
    "## List"
   ]
  },
  {
   "cell_type": "markdown",
   "metadata": {},
   "source": [
    "* insert(i,x) >> x를 리스트의 i번 원소에 삽입\n",
    "\n",
    "* append(x) >> \"원소 그 자체\" 를 리스트의 마지막에 삽입\n",
    "\n",
    "* extend(a) >> \"각각의 원소\"를 리스트의 마지막에 삽입\n",
    "\n",
    "* pop(i) >> 리스트의 i번째 원소 삭제\n",
    "\n",
    "* remove(x) >> 리스트에서 x를 가진 첫번째 원소 삭제\n",
    "\n",
    "* index(x) >> x가 몇번째 원소인지 알려줌\n",
    "\n",
    "* clear() >> 원소를 깨끗이 청소\n",
    "\n",
    "* count(x) >> x를 가진 원소가 몇개인지 알려줌\n",
    "\n",
    "* copy() >> 리스트 복제\n",
    "\n",
    "* reverse() >> 리스트의 순서를 바꿔줌\n",
    "\n",
    "* sort() >> 리스트의 원소들을 정렬\n",
    "\n",
    "\n",
    "\n",
    "--- 내장리스트의 한계 : 삽입이나 삭제시 시프트 작업이 필요, 미리 크기를 정해야 함 --> 파이썬에서 자동으로 관리해줌"
   ]
  },
  {
   "cell_type": "code",
   "execution_count": 1,
   "metadata": {},
   "outputs": [
    {
     "name": "stdout",
     "output_type": "stream",
     "text": [
      "[1, 'Mon', 3, 5, 6, 7]\n",
      "[1, 3, 5, 6, 7, 'Mon']\n",
      "[1, 3, 5, 7]\n",
      "[1, 3, 5, 6]\n",
      "[1, 3, 5, 6]\n",
      "[1, 3, 5, 6]\n",
      "[1, 3, 5, 7]\n",
      "[1, 3, 6, 7]\n"
     ]
    }
   ],
   "source": [
    "a = [1,3,5,6,7]\n",
    "a.insert(1,'Mon')\n",
    "print(a)\n",
    "\n",
    "a = [1,3,5,6,7]\n",
    "a.append('Mon')\n",
    "print(a)\n",
    "\n",
    "a = [1,3,5,6,7]\n",
    "a.pop(3)\n",
    "print(a)\n",
    "a = [1,3,5,6,7]\n",
    "a.pop(4)\n",
    "print(a)\n",
    "a = [1,3,5,6,7]\n",
    "a.pop()\n",
    "print(a)\n",
    "a = [1,3,5,6,7]\n",
    "a.pop(-1)\n",
    "print(a)\n",
    "a = [1,3,5,6,7]\n",
    "a.pop(-2)\n",
    "print(a)\n",
    "a = [1,3,5,6,7]\n",
    "a.remove(5)\n",
    "print(a)"
   ]
  },
  {
   "cell_type": "markdown",
   "metadata": {},
   "source": [
    "### List ADT 구현"
   ]
  },
  {
   "cell_type": "code",
   "execution_count": 9,
   "metadata": {},
   "outputs": [
    {
     "name": "stdout",
     "output_type": "stream",
     "text": [
      "[10, 30, 25, 15, 0]\n",
      "5\n"
     ]
    }
   ],
   "source": [
    "class List:\n",
    "    def __init__(self):\n",
    "        self.list = []\n",
    "        self.pos = 0\n",
    "        self.size = 0\n",
    "\n",
    "    def append(self,element): # element를 list 마지막에 추가\n",
    "        self.list.append(element)\n",
    "        self.size += 1\n",
    "    \n",
    "    def length(self):\n",
    "        return self.size   \n",
    "\n",
    "    def find(self,element): # 요소 찾기\n",
    "        for i in range(self.size):\n",
    "            if self.list[i] == element: #만약 list[i]에 요소가 들어있으면\n",
    "                return i #요소의 번호 반환\n",
    "            return False      \n",
    "\n",
    "    def insert(self,element,after):\n",
    "        insert_pos = self.find(after) #넣고싶은 위치의 번호 구하기\n",
    "        if insert_pos: # 요소가 들어있는 경우\n",
    "            self.list.insert(insert_pos+1,element) #요소 뒤에 element 삽입\n",
    "            self.size += 1\n",
    "            return True\n",
    "        return False # 넣고 싶은 번호가 존재하지 않는 경우\n",
    "\n",
    "    def remove(self,element):\n",
    "        found_at = self.find(element) #element가 들어있는 위치 번호 구하기\n",
    "        if found_at:\n",
    "            del self.list[found_at]\n",
    "            self.size -= 1\n",
    "            return True\n",
    "        return False\n",
    "\n",
    "    def clear(self):\n",
    "        self.list.clear()\n",
    "        self.size = 0\n",
    "        self.pos = 0\n",
    "        # 전부 초기화\n",
    "    def tostring(self):\n",
    "        return self.list\n",
    "        return '['+','.join([str(each) for each in self.list])+'] ' \n",
    "\n",
    "\n",
    "a = List()\n",
    "a.append(10)\n",
    "a.append(30)\n",
    "a.append(25)\n",
    "a.append(15)\n",
    "a.append(0)\n",
    "\n",
    "\n",
    "print(a.tostring())\n",
    "print(a.length())"
   ]
  }
 ],
 "metadata": {
  "kernelspec": {
   "display_name": "Python 3.10.6 64-bit",
   "language": "python",
   "name": "python3"
  },
  "language_info": {
   "codemirror_mode": {
    "name": "ipython",
    "version": 3
   },
   "file_extension": ".py",
   "mimetype": "text/x-python",
   "name": "python",
   "nbconvert_exporter": "python",
   "pygments_lexer": "ipython3",
   "version": "3.10.6"
  },
  "orig_nbformat": 4,
  "vscode": {
   "interpreter": {
    "hash": "aee8b7b246df8f9039afb4144a1f6fd8d2ca17a180786b69acc140d282b71a49"
   }
  }
 },
 "nbformat": 4,
 "nbformat_minor": 2
}
