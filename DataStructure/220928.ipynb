{
 "cells": [
  {
   "cell_type": "markdown",
   "metadata": {},
   "source": [
    "## List"
   ]
  },
  {
   "cell_type": "markdown",
   "metadata": {},
   "source": [
    "* insert(i,x) >> x를 리스트의 i번 원소에 삽입\n",
    "\n",
    "* append(x) >> \"원소 그 자체\" 를 리스트의 마지막에 삽입\n",
    "\n",
    "* extend(a) >> \"각각의 원소\"를 리스트의 마지막에 삽입\n",
    "\n",
    "* pop(i) >> 리스트의 i번째 원소 삭제\n",
    "\n",
    "* remove(x) >> 리스트에서 x를 가진 첫번째 원소 삭제\n",
    "\n",
    "* index(x) >> x가 몇번째 원소인지 알려줌\n",
    "\n",
    "* clear() >> 원소를 깨끗이 청소\n",
    "\n",
    "* count(x) >> x를 가진 원소가 몇개인지 알려줌\n",
    "\n",
    "* copy() >> 리스트 복제\n",
    "\n",
    "* reverse() >> 리스트의 순서를 바꿔줌\n",
    "\n",
    "* sort() >> 리스트의 원소들을 정렬"
   ]
  }
 ],
 "metadata": {
  "kernelspec": {
   "display_name": "Python 3.10.6 64-bit",
   "language": "python",
   "name": "python3"
  },
  "language_info": {
   "name": "python",
   "version": "3.10.6"
  },
  "orig_nbformat": 4,
  "vscode": {
   "interpreter": {
    "hash": "aee8b7b246df8f9039afb4144a1f6fd8d2ca17a180786b69acc140d282b71a49"
   }
  }
 },
 "nbformat": 4,
 "nbformat_minor": 2
}
