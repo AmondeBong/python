{
 "cells": [
  {
   "cell_type": "code",
   "execution_count": 3,
   "metadata": {},
   "outputs": [
    {
     "name": "stdout",
     "output_type": "stream",
     "text": [
      "Hello!\n",
      "x is 77 th\n",
      "my name is Tom\n"
     ]
    }
   ],
   "source": [
    "print('Hello!')\n",
    "x=77\n",
    "print('x is',x,\"th\")\n",
    "print(\"my\",\"name\",\"is\",\"Tom\")"
   ]
  },
  {
   "cell_type": "code",
   "execution_count": 8,
   "metadata": {},
   "outputs": [
    {
     "name": "stdout",
     "output_type": "stream",
     "text": [
      "[1, 3, 5, 7]\n",
      "1:3:5:7:\n",
      "\n",
      "(1, 3, 5, 7)\n",
      "1:3:5:7:\n",
      "\n",
      "1 : 10, 2 : 20, 5 : 30, 10 : 40, 3 : 222, 50 : 55, \n",
      "\n",
      "{1, 3, 5, 7, 10}\n"
     ]
    }
   ],
   "source": [
    "l = [1,3,5,7] #리스트\n",
    "print(l)\n",
    "for x in l:\n",
    "    print(x,end=\":\")\n",
    "print(\"\\n\")\n",
    "\n",
    "t=(1,3,5,7)   #튜플\n",
    "print(t)\n",
    "for x in t:\n",
    "    print(x,end=\":\")\n",
    "print(\"\\n\")\n",
    "\n",
    "d = {1:10,2:20,5:30,10:40} #딕셔너리\n",
    "d[3] = 222\n",
    "d[50] = 55\n",
    "for i in d:\n",
    "    print(i,\":\",d[i],end=\", \")\n",
    "print(\"\\n\")\n",
    "\n",
    "y = {1,3,5,7} #집합\n",
    "y.add(3) #이미 원소가 있어서 추가가 안됨\n",
    "y.add(10)\n",
    "print(y)"
   ]
  },
  {
   "cell_type": "code",
   "execution_count": 2,
   "metadata": {},
   "outputs": [
    {
     "name": "stdout",
     "output_type": "stream",
     "text": [
      "True\n",
      "False\n",
      "e-a-s-t-\n",
      "\n",
      "0 1 2 3 "
     ]
    }
   ],
   "source": [
    "print('s'in 'east')\n",
    "print(77 in[10,20,35,50])\n",
    "for element in 'east':\n",
    "    print(element,end = '-')\n",
    "print(\"\\n\")    \n",
    "for x in [0,1,2,3]:\n",
    "    print(x,end = ' ')        "
   ]
  },
  {
   "cell_type": "code",
   "execution_count": 11,
   "metadata": {},
   "outputs": [
    {
     "name": "stdout",
     "output_type": "stream",
     "text": [
      "21\n"
     ]
    }
   ],
   "source": [
    "sum = 0\n",
    "\n",
    "N = int(input(\"수를 입력하시오\"))\n",
    "for i in range(1,N+1):\n",
    "    sum += i\n",
    "\n",
    "print(sum)    "
   ]
  },
  {
   "cell_type": "code",
   "execution_count": 22,
   "metadata": {},
   "outputs": [
    {
     "name": "stdout",
     "output_type": "stream",
     "text": [
      "10\n",
      "5\n",
      "[1, 2, 'test']\n"
     ]
    }
   ],
   "source": [
    "def twofold(a):\n",
    "    return a*2\n",
    "\n",
    "x=5\n",
    "print(twofold(x))\n",
    "\n",
    "def sample(a:int,b):\n",
    "    a *=2\n",
    "    b.append('test')\n",
    "x = 5\n",
    "y = [1,2]\n",
    "\n",
    "sample(x,y)\n",
    "print(x)\n",
    "print(y)"
   ]
  },
  {
   "cell_type": "code",
   "execution_count": 47,
   "metadata": {},
   "outputs": [],
   "source": [
    "class Sample:\n",
    "    counter2 = 0\n",
    "    def __init__(self):\n",
    "        self.counter = 0\n",
    "    def numEven(self,n):\n",
    "        for k in range(n):\n",
    "            if k%2==0:\n",
    "                self.counter += 1\n",
    "                Sample.counter2 +=1\n",
    "        return self.counter, Sample.counter2\n",
    "        "
   ]
  },
  {
   "cell_type": "code",
   "execution_count": 48,
   "metadata": {},
   "outputs": [
    {
     "name": "stdout",
     "output_type": "stream",
     "text": [
      "8 16\n"
     ]
    }
   ],
   "source": [
    "s1 = Sample()\n",
    "s2 = Sample()\n",
    "s1.numEven(15)\n",
    "s2.numEven(15)\n",
    "print(s1.counter, s2.counter2)"
   ]
  }
 ],
 "metadata": {
  "kernelspec": {
   "display_name": "Python 3.10.6 64-bit",
   "language": "python",
   "name": "python3"
  },
  "language_info": {
   "codemirror_mode": {
    "name": "ipython",
    "version": 3
   },
   "file_extension": ".py",
   "mimetype": "text/x-python",
   "name": "python",
   "nbconvert_exporter": "python",
   "pygments_lexer": "ipython3",
   "version": "3.10.6"
  },
  "orig_nbformat": 4,
  "vscode": {
   "interpreter": {
    "hash": "aee8b7b246df8f9039afb4144a1f6fd8d2ca17a180786b69acc140d282b71a49"
   }
  }
 },
 "nbformat": 4,
 "nbformat_minor": 2
}
