{
 "cells": [
  {
   "cell_type": "code",
   "execution_count": 3,
   "metadata": {},
   "outputs": [
    {
     "name": "stdout",
     "output_type": "stream",
     "text": [
      "Hello!\n",
      "x is 77 th\n",
      "my name is Tom\n"
     ]
    }
   ],
   "source": [
    "print('Hello!')\n",
    "x=77\n",
    "print('x is',x,\"th\")\n",
    "print(\"my\",\"name\",\"is\",\"Tom\")"
   ]
  },
  {
   "cell_type": "code",
   "execution_count": 11,
   "metadata": {},
   "outputs": [
    {
     "name": "stdout",
     "output_type": "stream",
     "text": [
      "21\n"
     ]
    }
   ],
   "source": [
    "sum = 0\n",
    "\n",
    "N = int(input(\"수를 입력하시오\"))\n",
    "for i in range(1,N+1):\n",
    "    sum += i\n",
    "\n",
    "print(sum)    "
   ]
  },
  {
   "cell_type": "code",
   "execution_count": 22,
   "metadata": {},
   "outputs": [
    {
     "name": "stdout",
     "output_type": "stream",
     "text": [
      "10\n",
      "5\n",
      "[1, 2, 'test']\n"
     ]
    }
   ],
   "source": [
    "def twofold(a):\n",
    "    return a*2\n",
    "\n",
    "x=5\n",
    "print(twofold(x))\n",
    "\n",
    "def sample(a:int,b):\n",
    "    a *=2\n",
    "    b.append('test')\n",
    "x = 5\n",
    "y = [1,2]\n",
    "\n",
    "sample(x,y)\n",
    "print(x)\n",
    "print(y)"
   ]
  },
  {
   "cell_type": "code",
   "execution_count": 47,
   "metadata": {},
   "outputs": [],
   "source": [
    "class Sample:\n",
    "    counter2 = 0\n",
    "    def __init__(self):\n",
    "        self.counter = 0\n",
    "    def numEven(self,n):\n",
    "        for k in range(n):\n",
    "            if k%2==0:\n",
    "                self.counter += 1\n",
    "                Sample.counter2 +=1\n",
    "        return self.counter, Sample.counter2\n",
    "        "
   ]
  },
  {
   "cell_type": "code",
   "execution_count": 48,
   "metadata": {},
   "outputs": [
    {
     "name": "stdout",
     "output_type": "stream",
     "text": [
      "8 16\n"
     ]
    }
   ],
   "source": [
    "s1 = Sample()\n",
    "s2 = Sample()\n",
    "s1.numEven(15)\n",
    "s2.numEven(15)\n",
    "print(s1.counter, s2.counter2)"
   ]
  }
 ],
 "metadata": {
  "kernelspec": {
   "display_name": "Python 3.10.6 64-bit",
   "language": "python",
   "name": "python3"
  },
  "language_info": {
   "codemirror_mode": {
    "name": "ipython",
    "version": 3
   },
   "file_extension": ".py",
   "mimetype": "text/x-python",
   "name": "python",
   "nbconvert_exporter": "python",
   "pygments_lexer": "ipython3",
   "version": "3.10.6"
  },
  "orig_nbformat": 4,
  "vscode": {
   "interpreter": {
    "hash": "aee8b7b246df8f9039afb4144a1f6fd8d2ca17a180786b69acc140d282b71a49"
   }
  }
 },
 "nbformat": 4,
 "nbformat_minor": 2
}
