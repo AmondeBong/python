{
 "cells": [
  {
   "cell_type": "markdown",
   "metadata": {},
   "source": [
    "## 선형 리스트"
   ]
  },
  {
   "cell_type": "markdown",
   "metadata": {},
   "source": [
    "### 카톡친구 자동 삽입하기"
   ]
  },
  {
   "cell_type": "code",
   "execution_count": 1,
   "metadata": {},
   "outputs": [
    {
     "name": "stdout",
     "output_type": "stream",
     "text": [
      "('민수', 300)\n",
      "[('민수', 300), ('다현', 200), ('정연', 150), ('쯔위', 90), ('사나', 30), ('지효', 15)]\n"
     ]
    }
   ],
   "source": [
    "katok = [('다현',200),('정연',150),('쯔위',90),('사나',30),('지효',15)]\n",
    "\n",
    "def add_friend(friend,times):\n",
    "    \n",
    "\n",
    "    for i in range(len(katok)-1): #카톡 리스트의 길이 만큼 반복\n",
    "        \n",
    "        data = katok[i]\n",
    "\n",
    "        if times >= data[1]: # 연략횟수가 앞에있는 연락횟수 보다 같거나 클 경우\n",
    "            katok.append(None) # 새로운 배열 추가\n",
    "            katok_len = len(katok) \n",
    "\n",
    "            for j in range(katok_len-1,i,-1):\n",
    "                katok[j] = katok[j-1] #뒤로 한칸씩 옮기기\n",
    "                katok[j-1] = None\n",
    "\n",
    "            katok[i] = (friend,times) # 새 배열 추가\n",
    "            print(katok[i])\n",
    "            break\n",
    "\n",
    "    print(katok)        \n",
    "\n",
    "                \n",
    "\n",
    "if __name__ == \"__main__\":\n",
    "\n",
    "    friend = input(\"추가할 친구 --- >\")\n",
    "    times = int(input(\"카톡 횟수 --- > \"))\n",
    "    add_friend(friend,times)\n",
    "\n"
   ]
  },
  {
   "cell_type": "markdown",
   "metadata": {},
   "source": [
    "## 연결리스트"
   ]
  },
  {
   "cell_type": "markdown",
   "metadata": {},
   "source": [
    "### 사용자가 입력한 정보 관리하기"
   ]
  },
  {
   "cell_type": "code",
   "execution_count": 17,
   "metadata": {},
   "outputs": [
    {
     "name": "stdout",
     "output_type": "stream",
     "text": [
      "['혜리', 'herry@girls.com'] \n",
      "['유라', 'youra@girls.com'] ['혜리', 'herry@girls.com'] \n",
      "['소진', 'sojin@girls.com'] ['유라', 'youra@girls.com'] ['혜리', 'herry@girls.com'] \n",
      "['방민아', 'bms@girls.com'] ['소진', 'sojin@girls.com'] ['유라', 'youra@girls.com'] ['혜리', 'herry@girls.com'] \n"
     ]
    }
   ],
   "source": [
    "\n",
    "class Node():\n",
    "    def __init__(self):\n",
    "        self.data = None;\n",
    "        self.link = None;\n",
    "\n",
    "def printNodes(start):\n",
    "        current = start\n",
    "        if current == None :\n",
    "            return\n",
    "        print(current.data,end = ' ')\n",
    "        while current.link != None :\n",
    "            current = current.link\n",
    "            print(current.data,end = ' ')\n",
    "        print()\n",
    "\n",
    "def makeSimpleLinkedList(nameEmail):\n",
    "    global memory,head,current,pre\n",
    "    \n",
    "    node = Node()\n",
    "    node.data = nameEmail\n",
    "    memory.append(node)\n",
    "\n",
    "    #첫번째 노드일때\n",
    "    if head == None:\n",
    "        head = node\n",
    "        return\n",
    "    #첫번째 노드보다 작을때    \n",
    "    if head.data[1] > nameEmail[1]: \n",
    "        node.link  = head\n",
    "        head = node\n",
    "        return\n",
    "\n",
    "    #중간 노드에 넣는경우\n",
    "    current = head\n",
    "    while current.link != None:\n",
    "        pre = current\n",
    "        current = current.link\n",
    "        if current.data[1]> nameEmail[1]: # 집어 넣으려는데이터보다 현재 데이터가 큰 경우(앞에 집어넣음)\n",
    "            pre.link = node\n",
    "            node.link = current\n",
    "            return\n",
    "\n",
    "\n",
    "    current.link = node # 뒤에 아무것도 없는경우\n",
    "\n",
    "\n",
    "if __name__ == \"__main__\":\n",
    "\n",
    "    memory = []\n",
    "    head,current,pre = None,None,None        \n",
    "    data = []\n",
    "    play = True\n",
    "    \n",
    "    while play:\n",
    "        name = input(\"이름 ---> \")\n",
    "        if name == \"\":\n",
    "            play = False\n",
    "            break\n",
    "        email = input(\"이메일 ---> \")\n",
    "\n",
    "        data = [name,email]\n",
    "        dataArray=[data]\n",
    "\n",
    "        for obj in dataArray :\n",
    "            makeSimpleLinkedList(obj)\n",
    "        \n",
    "        printNodes(head)    \n",
    "    \n"
   ]
  },
  {
   "cell_type": "markdown",
   "metadata": {},
   "source": [
    "### 로또 추첨하기"
   ]
  },
  {
   "cell_type": "code",
   "execution_count": 8,
   "metadata": {},
   "outputs": [
    {
     "name": "stdout",
     "output_type": "stream",
     "text": [
      "2 4 10 15 17 25 \n"
     ]
    }
   ],
   "source": [
    "class Node():\n",
    "    def __init__(self):\n",
    "        self.data = None\n",
    "        self.link = None\n",
    "\n",
    "def makeLinkedLotto(number):\n",
    "    global memory,head,current,pre\n",
    "\n",
    "    \n",
    "\n",
    "    if number not in memory:\n",
    "        node = Node()\n",
    "        node.data = number\n",
    "        memory.append(node)\n",
    "\n",
    "        if head == None:\n",
    "            head = node\n",
    "            return\n",
    "        if head.data > number:\n",
    "            node.link = head\n",
    "            head  = node\n",
    "            return\n",
    "\n",
    "        current = head\n",
    "        while current.link != None:\n",
    "\n",
    "            pre = current\n",
    "            current = current.link\n",
    "\n",
    "            if current.data > number:\n",
    "                pre.link = node\n",
    "                node.link = current\n",
    "                return\n",
    "\n",
    "        current.link = node\n",
    "\n",
    "def printLotto(start):\n",
    "    global memory,head,current,pre\n",
    "\n",
    "    if head == None:\n",
    "        return\n",
    "    start = head\n",
    "    while start.link != None:\n",
    "        print(start.data,end = \" \")    \n",
    "        start = start.link\n",
    "    print()    \n",
    "      \n",
    "import random\n",
    "memory = []\n",
    "head,pre,current = None,None,None\n",
    "\n",
    "if __name__ == \"__main__\":\n",
    "    \n",
    "\n",
    "    while len(memory) != 7 :\n",
    "        num = random.randint(1,46)\n",
    "        makeLinkedLotto(num)\n",
    "\n",
    "    printLotto(head)"
   ]
  },
  {
   "cell_type": "markdown",
   "metadata": {},
   "source": [
    "## 원형연결리스트"
   ]
  },
  {
   "cell_type": "markdown",
   "metadata": {},
   "source": [
    "### 현재 위치부터 가까운 편의점 관리하기"
   ]
  },
  {
   "cell_type": "code",
   "execution_count": 16,
   "metadata": {},
   "outputs": [
    {
     "name": "stdout",
     "output_type": "stream",
     "text": [
      "편의점  A 의 거리:  52.172789842982326\n",
      "편의점  J 의 거리:  57.8013840664737\n",
      "편의점  H 의 거리:  66.70832032063167\n",
      "편의점  I 의 거리:  70.8590149522275\n",
      "편의점  B 의 거리:  86.02325267042627\n",
      "편의점  C 의 거리:  102.61578825892242\n",
      "편의점  G 의 거리:  103.27632836231156\n",
      "편의점  E 의 거리:  104.27847332982968\n",
      "편의점  F 의 거리:  107.00467279516349\n"
     ]
    }
   ],
   "source": [
    "import math,random\n",
    "\n",
    "class Node():\n",
    "    def __init__(self):\n",
    "        self.data = None\n",
    "        self.link = None\n",
    "\n",
    "\n",
    "def makeCV(cvdata):\n",
    "    global memory,head,pre,current\n",
    "\n",
    "    node = Node()\n",
    "    node.data = cvdata\n",
    "    memory.append(node)\n",
    "\n",
    "    if head == None:\n",
    "        head = node\n",
    "        node.link = head\n",
    "        return\n",
    "\n",
    "    head_x,head_y = head.data[1:]\n",
    "    node_x,node_y = node.data[1:]\n",
    "\n",
    "    head_distance = math.sqrt((head_x*head_x)+(head_y*head_y))\n",
    "    node_distance = math.sqrt((node_x*node_x)+(node_y*node_y))\n",
    "\n",
    "    if head_distance > node_distance:\n",
    "        node.link = head\n",
    "        \n",
    "        last = head\n",
    "        while last.link != head:\n",
    "            last = last.link\n",
    "        last.link = node\n",
    "        head = node\n",
    "        return\n",
    "\n",
    "    current = head\n",
    "    while current.link != head:\n",
    "        pre = current\n",
    "        current = current.link\n",
    "\n",
    "        current_x,current_y = current.data[1:]\n",
    "        current_distance = math.sqrt((current_x*current_x)+(current_y*current_y))\n",
    "        if current_distance > node_distance:\n",
    "            pre.link = node\n",
    "            node.link = current\n",
    "            return\n",
    "\n",
    "    current.link = node\n",
    "    node.link = head        \n",
    "\n",
    "def printCV(start):\n",
    "    global memory,head,pre,current\n",
    "    \n",
    "    if start.data == None:\n",
    "        return\n",
    "\n",
    "    current = start\n",
    "    while current.link != head:\n",
    "        current_x,current_y = current.data[1:]\n",
    "        current_distance = math.sqrt((current_x*current_x)+(current_y*current_y))\n",
    "        print(\"편의점 \",current.data[0],\"의 거리: \", current_distance)\n",
    "        current = current.link\n",
    "\n",
    "\n",
    "memory = []\n",
    "head,current,pre = None,None,None\n",
    "\n",
    "if __name__ == \"__main__\":\n",
    "\n",
    "    name = 'A'\n",
    "    for i in range(10):\n",
    "        cv_data = (name,random.randint(1,100),random.randint(1,100))\n",
    "        makeCV(cv_data)\n",
    "        name = chr(ord(name)+1)\n",
    "    printCV(head)  "
   ]
  }
 ],
 "metadata": {
  "kernelspec": {
   "display_name": "Python 3.10.6 64-bit",
   "language": "python",
   "name": "python3"
  },
  "language_info": {
   "codemirror_mode": {
    "name": "ipython",
    "version": 3
   },
   "file_extension": ".py",
   "mimetype": "text/x-python",
   "name": "python",
   "nbconvert_exporter": "python",
   "pygments_lexer": "ipython3",
   "version": "3.10.6"
  },
  "orig_nbformat": 4,
  "vscode": {
   "interpreter": {
    "hash": "aee8b7b246df8f9039afb4144a1f6fd8d2ca17a180786b69acc140d282b71a49"
   }
  }
 },
 "nbformat": 4,
 "nbformat_minor": 2
}
