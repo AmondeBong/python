{
 "cells": [
  {
   "cell_type": "markdown",
   "metadata": {},
   "source": [
    "### 단순 연결 리스트"
   ]
  },
  {
   "cell_type": "code",
   "execution_count": 1,
   "metadata": {},
   "outputs": [
    {
     "name": "stdout",
     "output_type": "stream",
     "text": [
      "다현 정현 쯔위 사나 지효 \n"
     ]
    }
   ],
   "source": [
    "class Node():\n",
    "    def __init__(self):\n",
    "        self.data = None;\n",
    "        self.link = None;\n",
    "def printNodes(start):\n",
    "        current = start\n",
    "        if current == None :\n",
    "            return\n",
    "        print(current.data,end = ' ')\n",
    "        while current.link != None :\n",
    "            current = current.link\n",
    "            print(current.data,end = ' ')\n",
    "        print()\n",
    "\n",
    "memory = []\n",
    "head,current,pre = None,None,None\n",
    "dataArray = ['다현','정현','쯔위','사나','지효']\n",
    "\n",
    "\n",
    "if __name__ == \"__main__\":\n",
    "    node = Node()\n",
    "    node.data = dataArray[0]\n",
    "    head = node #헤드 노드를 새 노드로 지정\n",
    "    memory.append(node)\n",
    "\n",
    "    for data in dataArray[1:]:\n",
    "        pre = node\n",
    "        node = Node() #새 노드를 생성\n",
    "        node.data = data #데이터 추가\n",
    "        pre.link = node #새 노드의 링크로 전 노드가 가리키는 노드를 지정\n",
    "        memory.append(node)\n",
    "    printNodes(head)"
   ]
  },
  {
   "cell_type": "code",
   "execution_count": 2,
   "metadata": {},
   "outputs": [
    {
     "name": "stdout",
     "output_type": "stream",
     "text": [
      "화사 다현 정현 쯔위 사나 지효 \n"
     ]
    }
   ],
   "source": [
    "node = Node()\n",
    "node.data = '화사'\n",
    "node.link = head\n",
    "head = node\n",
    "printNodes(head)"
   ]
  },
  {
   "cell_type": "code",
   "execution_count": 3,
   "metadata": {},
   "outputs": [
    {
     "name": "stdout",
     "output_type": "stream",
     "text": [
      "화사 다현 정현 쯔위 솔라 사나 지효 \n"
     ]
    }
   ],
   "source": [
    "current = head # head에서 시작 \n",
    "while current.link != None: \n",
    "    pre = current #현재 노드를 이전 노드로 지정\n",
    "    current = current.link #현재 노드를 다음 노드로 이동\n",
    "    if current.data == '사나': #노드가 사나 면\n",
    "        node = Node() # 새 노드 생성\n",
    "        node.data = '솔라' #데이터 추가\n",
    "        node.link = current # 사나 앞에 솔라 넣기\n",
    "        pre.link = node    #이전 노드와 솔라를 연결\n",
    "\n",
    "printNodes(head)"
   ]
  },
  {
   "cell_type": "code",
   "execution_count": 4,
   "metadata": {},
   "outputs": [
    {
     "name": "stdout",
     "output_type": "stream",
     "text": [
      "화사 다현 정현 쯔위 솔라 사나 지효 문별 \n"
     ]
    }
   ],
   "source": [
    "node = Node()\n",
    "node.data = '문별'\n",
    "current.link = node\n",
    "printNodes(head)"
   ]
  },
  {
   "cell_type": "markdown",
   "metadata": {},
   "source": [
    "### 원형 연결 리스트"
   ]
  },
  {
   "cell_type": "code",
   "execution_count": null,
   "metadata": {},
   "outputs": [],
   "source": [
    "class Node():\n",
    "    def __init__(self):\n",
    "        self.data = None\n",
    "        self.link = None\n",
    "node1 = Node()\n",
    "node1.data = \"다현\"\n",
    "\n",
    "node2 = Node()\n",
    "node2.data = \"정연\"\n",
    "node1.link = node2\n",
    "\n",
    "node2.link = node1 # 다시 첫번째로 노드 연결\n",
    "\n"
   ]
  },
  {
   "cell_type": "code",
   "execution_count": 1,
   "metadata": {},
   "outputs": [
    {
     "name": "stdout",
     "output_type": "stream",
     "text": [
      "다현 정현 쯔위 사나 지효 \n"
     ]
    }
   ],
   "source": [
    "class Node():\n",
    "    def __init__(self):\n",
    "        self.data = None;\n",
    "        self.link = None;\n",
    "def printNodes(start):\n",
    "        current = start\n",
    "        if current == None :\n",
    "            return\n",
    "        print(current.data,end = ' ')\n",
    "\n",
    "        while current.link != start : # 이것만 다름\n",
    "            current = current.link\n",
    "            print(current.data,end = ' ')\n",
    "        print()\n",
    "\n",
    "memory = []\n",
    "head,current,pre = None,None,None\n",
    "dataArray = ['다현','정현','쯔위','사나','지효']\n",
    "\n",
    "\n",
    "if __name__ == \"__main__\":\n",
    "    node = Node()\n",
    "    node.data = dataArray[0]\n",
    "    head = node #헤드 노드를 새 노드로 지정\n",
    "    \n",
    "    node.link = head # 다시 처음과 연결\n",
    "    memory.append(node)\n",
    "\n",
    "    for data in dataArray[1:]:\n",
    "        pre = node\n",
    "        node = Node() #새 노드를 생성\n",
    "        node.data = data #데이터 추가\n",
    "        pre.link = node #새 노드의 링크로 전 노드가 가리키는 노드를 지정\n",
    "\n",
    "        node.link = head #다시 처음과 연결\n",
    "        memory.append(node)\n",
    "    printNodes(head)"
   ]
  }
 ],
 "metadata": {
  "kernelspec": {
   "display_name": "Python 3.10.6 64-bit",
   "language": "python",
   "name": "python3"
  },
  "language_info": {
   "codemirror_mode": {
    "name": "ipython",
    "version": 3
   },
   "file_extension": ".py",
   "mimetype": "text/x-python",
   "name": "python",
   "nbconvert_exporter": "python",
   "pygments_lexer": "ipython3",
   "version": "3.10.6"
  },
  "orig_nbformat": 4,
  "vscode": {
   "interpreter": {
    "hash": "aee8b7b246df8f9039afb4144a1f6fd8d2ca17a180786b69acc140d282b71a49"
   }
  }
 },
 "nbformat": 4,
 "nbformat_minor": 2
}
