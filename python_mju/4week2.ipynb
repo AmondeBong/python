{
 "cells": [
  {
   "cell_type": "markdown",
   "metadata": {},
   "source": [
    "## 4WEEk"
   ]
  },
  {
   "cell_type": "markdown",
   "metadata": {},
   "source": [
    "### SELF STUDY 4-2"
   ]
  },
  {
   "cell_type": "code",
   "execution_count": 12,
   "metadata": {},
   "outputs": [
    {
     "name": "stdout",
     "output_type": "stream",
     "text": [
      "['지민', 180] \n",
      "['정국', 177] ['지민', 180] \n",
      "['정국', 177] ['지민', 180] ['뷔', 183] \n",
      "['슈가', 175] ['정국', 177] ['지민', 180] ['뷔', 183] \n",
      "['슈가', 175] ['정국', 177] ['진', 179] ['지민', 180] ['뷔', 183] \n"
     ]
    }
   ],
   "source": [
    "\n",
    "\n",
    "class Node():\n",
    "    def __init__(self):\n",
    "        self.data = None;\n",
    "        self.link = None;\n",
    "def printNodes(start):\n",
    "        current = start\n",
    "        if current == None :\n",
    "            return\n",
    "        print(current.data,end = ' ')\n",
    "        while current.link != None :\n",
    "            current = current.link\n",
    "            print(current.data,end = ' ')\n",
    "        print()\n",
    "\n",
    "def makeSimpleLinkedList(nameheight):\n",
    "    global memory,head,currnet,pre\n",
    "    printNodes(head)\n",
    "    node = Node()\n",
    "    node.data = nameheight\n",
    "    memory.append(node)\n",
    "    if head == None : #첫번째 노드 일 경우\n",
    "        head = node \n",
    "        return\n",
    "\n",
    "    if head.data[1] > nameheight[1]: #첫번째 노드보다 작을 경우 (두번째 데이터 비교)\n",
    "        node.link = head\n",
    "        head = node\n",
    "        return\n",
    "\n",
    "    current = head # 중간 노드에 넣는 경우\n",
    "    while current.link != None:\n",
    "        pre = current\n",
    "        current = current.link\n",
    "        if current.data[1] > nameheight[1]:\n",
    "            pre.link = node\n",
    "            node.link = current\n",
    "            return\n",
    "    \n",
    "    current.link = node # 삽입하는 노드가 가장 큰 경우\n",
    "\n",
    "memory = []\n",
    "head,current,pre = None,None,None\n",
    "dataArray = [[\"지민\",180],[\"정국\",177],[\"뷔\",183],[\"슈가\",175],[\"진\",179]]\n",
    "\n",
    "if __name__ == \"__main__\":\n",
    "\n",
    "    for data in dataArray:\n",
    "        makeSimpleLinkedList(data)\n",
    "\n",
    "    printNodes(head)    \n",
    "\n"
   ]
  },
  {
   "cell_type": "markdown",
   "metadata": {},
   "source": [
    "### LOTTO"
   ]
  },
  {
   "cell_type": "code",
   "execution_count": 14,
   "metadata": {},
   "outputs": [
    {
     "name": "stdout",
     "output_type": "stream",
     "text": [
      "8 ,28 ,19 ,10 ,35 ,22 "
     ]
    }
   ],
   "source": [
    "import random\n",
    "\n",
    "def lotto():\n",
    "    dataArray = random.sample(range(1,46),6)\n",
    "    head = Node()\n",
    "    head.data = dataArray[0]\n",
    "    current = head\n",
    "    \n",
    "    for i in range(1,6):\n",
    "        node = Node()\n",
    "        node.data = dataArray[i]\n",
    "        pre = current\n",
    "        current = node\n",
    "        pre.link = node\n",
    "    print(\"%d\" %head.data,end = \" \")\n",
    "\n",
    "    current = head\n",
    "    while current.link != None:\n",
    "        current = current.link\n",
    "        print(\",%d\"%current.data, end = \" \")  \n",
    "\n",
    "if __name__ == \"__main__\":\n",
    "    lotto()          "
   ]
  }
 ],
 "metadata": {
  "kernelspec": {
   "display_name": "Python 3.10.6 64-bit",
   "language": "python",
   "name": "python3"
  },
  "language_info": {
   "codemirror_mode": {
    "name": "ipython",
    "version": 3
   },
   "file_extension": ".py",
   "mimetype": "text/x-python",
   "name": "python",
   "nbconvert_exporter": "python",
   "pygments_lexer": "ipython3",
   "version": "3.10.6"
  },
  "orig_nbformat": 4,
  "vscode": {
   "interpreter": {
    "hash": "aee8b7b246df8f9039afb4144a1f6fd8d2ca17a180786b69acc140d282b71a49"
   }
  }
 },
 "nbformat": 4,
 "nbformat_minor": 2
}
