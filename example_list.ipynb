{
 "cells": [
  {
   "cell_type": "markdown",
   "metadata": {},
   "source": [
    "## 선형 리스트"
   ]
  },
  {
   "cell_type": "markdown",
   "metadata": {},
   "source": [
    "### 카톡친구 자동 삽입하기"
   ]
  },
  {
   "cell_type": "code",
   "execution_count": 19,
   "metadata": {},
   "outputs": [
    {
     "name": "stdout",
     "output_type": "stream",
     "text": [
      "200\n",
      "('민수', 260)\n",
      "[('민수', 260), ('다현', 200), ('정연', 150), ('쯔위', 90), ('사나', 30), ('지효', 15)]\n"
     ]
    }
   ],
   "source": [
    "katok = [('다현',200),('정연',150),('쯔위',90),('사나',30),('지효',15)]\n",
    "\n",
    "def add_friend(friend,times):\n",
    "    \n",
    "\n",
    "    for i in range(len(katok)-1): #카톡 리스트의 길이 만큼 반복\n",
    "        \n",
    "        data = katok[i]\n",
    "        print(data[1])\n",
    "\n",
    "        if times >= data[1]: # 연략횟수가 앞에있는 연락횟수 보다 같거나 클 경우\n",
    "            katok.append(None) # 새로운 배열 추가\n",
    "            katok_len = len(katok) \n",
    "\n",
    "            for j in range(katok_len-1,i,-1):\n",
    "                katok[j] = katok[j-1] #뒤로 한칸씩 옮기기\n",
    "                katok[j-1] = None\n",
    "\n",
    "            katok[i] = (friend,times) # 새 배열 추가\n",
    "            print(katok[i])\n",
    "            break\n",
    "\n",
    "    print(katok)        \n",
    "\n",
    "                \n",
    "\n",
    "if __name__ == \"__main__\":\n",
    "\n",
    "    friend = input(\"추가할 친구 --- >\")\n",
    "    times = int(input(\"카톡 횟수 --- > \"))\n",
    "    add_friend(friend,times)\n",
    "\n"
   ]
  },
  {
   "cell_type": "markdown",
   "metadata": {},
   "source": [
    "## 연결리스트"
   ]
  },
  {
   "cell_type": "markdown",
   "metadata": {},
   "source": [
    "### 사용자가 입력한 정보 관리하기"
   ]
  },
  {
   "cell_type": "code",
   "execution_count": 17,
   "metadata": {},
   "outputs": [
    {
     "name": "stdout",
     "output_type": "stream",
     "text": [
      "['혜리', 'herry@girls.com'] \n",
      "['유라', 'youra@girls.com'] ['혜리', 'herry@girls.com'] \n",
      "['소진', 'sojin@girls.com'] ['유라', 'youra@girls.com'] ['혜리', 'herry@girls.com'] \n",
      "['방민아', 'bms@girls.com'] ['소진', 'sojin@girls.com'] ['유라', 'youra@girls.com'] ['혜리', 'herry@girls.com'] \n"
     ]
    }
   ],
   "source": [
    "\n",
    "class Node():\n",
    "    def __init__(self):\n",
    "        self.data = None;\n",
    "        self.link = None;\n",
    "\n",
    "def printNodes(start):\n",
    "        current = start\n",
    "        if current == None :\n",
    "            return\n",
    "        print(current.data,end = ' ')\n",
    "        while current.link != None :\n",
    "            current = current.link\n",
    "            print(current.data,end = ' ')\n",
    "        print()\n",
    "\n",
    "def makeSimpleLinkedList(nameEmail):\n",
    "    global memory,head,current,pre\n",
    "    \n",
    "    node = Node()\n",
    "    node.data = nameEmail\n",
    "    memory.append(node)\n",
    "\n",
    "    #첫번째 노드일때\n",
    "    if head == None:\n",
    "        head = node\n",
    "        return\n",
    "    #첫번째 노드보다 작을때    \n",
    "    if head.data[1] > nameEmail[1]: \n",
    "        node.link  = head\n",
    "        head = node\n",
    "        return\n",
    "\n",
    "    #중간 노드에 넣는경우\n",
    "    current = head\n",
    "    while current.link != None:\n",
    "        pre = current\n",
    "        current = current.link\n",
    "        if current.data[1]> nameEmail[1]: # 집어 넣으려는데이터보다 현재 데이터가 큰 경우(앞에 집어넣음)\n",
    "            pre.link = node\n",
    "            node.link = current\n",
    "            return\n",
    "\n",
    "\n",
    "    current.link = node # 뒤에 아무것도 없는경우\n",
    "\n",
    "\n",
    "if __name__ == \"__main__\":\n",
    "\n",
    "    memory = []\n",
    "    head,current,pre = None,None,None        \n",
    "    data = []\n",
    "    play = True\n",
    "    \n",
    "    while play:\n",
    "        name = input(\"이름 ---> \")\n",
    "        if name == \"\":\n",
    "            play = False\n",
    "            break\n",
    "        email = input(\"이메일 ---> \")\n",
    "\n",
    "        data = [name,email]\n",
    "        dataArray=[data]\n",
    "\n",
    "        for obj in dataArray :\n",
    "            makeSimpleLinkedList(obj)\n",
    "        \n",
    "        printNodes(head)    \n",
    "    \n"
   ]
  },
  {
   "cell_type": "markdown",
   "metadata": {},
   "source": [
    "### 로또 추첨하기"
   ]
  },
  {
   "cell_type": "code",
   "execution_count": 12,
   "metadata": {},
   "outputs": [
    {
     "name": "stdout",
     "output_type": "stream",
     "text": [
      "[14, 15, 18, 23, 25, 34] \n"
     ]
    }
   ],
   "source": [
    "import random\n",
    "\n",
    "memory = []\n",
    "head,current,pre = None,None,None \n",
    "lotto = []\n",
    "\n",
    "while True:\n",
    "    pick_num = random.randint(1,46)\n",
    "    if pick_num not in lotto:\n",
    "        lotto.append(pick_num)\n",
    "    if len(lotto) >= 6:\n",
    "        break;\n",
    "\n",
    "lotto.sort()\n",
    "makeSimpleLinkedList(lotto)\n",
    "printNodes(head)    \n",
    "    "
   ]
  },
  {
   "cell_type": "markdown",
   "metadata": {},
   "source": [
    "## 원형연결리스트"
   ]
  },
  {
   "cell_type": "markdown",
   "metadata": {},
   "source": [
    "### 현재 위치부터 가까운 편의점 관리하기"
   ]
  },
  {
   "cell_type": "code",
   "execution_count": 3,
   "metadata": {},
   "outputs": [
    {
     "name": "stdout",
     "output_type": "stream",
     "text": [
      "H 편의점, 거리:  26.92582403567252\n",
      "F 편의점, 거리:  63.198101237299845\n",
      "J 편의점, 거리:  75.69015788066504\n",
      "B 편의점, 거리:  77.88452991448301\n",
      "E 편의점, 거리:  80.4114419718985\n",
      "C 편의점, 거리:  85.98837130682264\n",
      "D 편의점, 거리:  93.40770846134703\n",
      "I 편의점, 거리:  96.20810776644555\n",
      "G 편의점, 거리:  124.08464852672147\n",
      "\n"
     ]
    }
   ],
   "source": [
    "import random\n",
    "import math\n",
    "\n",
    "class Node():\n",
    "    def __init__(self):\n",
    "        self.data = None\n",
    "        self.next = None\n",
    "\n",
    "def printNodes(start):\n",
    "    current = start\n",
    "    if current.next == None: #뒤에 아무것도 없는 경우\n",
    "        return #종료\n",
    "\n",
    "    while current.next != head: # 끝까지\n",
    "        current = current.next\n",
    "        x,y = current.data[1:]\n",
    "        print(current.data[0],\"편의점, 거리: \",math.sqrt(x*x+y*y))\n",
    "    print()    \n",
    "\n",
    "def insertNode(findData,insertData):\n",
    "    global memory,head,current,pre\n",
    "    if head.data == findData : # 집어넣을 위치가 맨 앞인경우\n",
    "        node = Node()\n",
    "        node.data = insertData\n",
    "\n",
    "        node.next = head # 새 노드의 다음을 head가 가리키는 노드로 지정\n",
    "        last = head # last에 head가 가리키는 노드 지정\n",
    "        while last.next != head: # 다시 처음으로 돌아올때 까지\n",
    "            last = last.next #한칸씩 땡기기\n",
    "        last.next= node # 마지막 노드와 새 노드를 연결\n",
    "        head = node  # 새 노드를 head가 가리키는 노ㅡ로 지정\n",
    "        return # 종료\n",
    "\n",
    "    current = head # 처음부터 시작\n",
    "    while current.next != head: # 끝까지\n",
    "        pre = current # 이전으로 옮기기\n",
    "        current = current.next #한칸씩 앞으로 옮기기\n",
    "        if current.data == findData: # 집어넣을 위치를 찾은 경우\n",
    "            node = Node()\n",
    "            node.data = insertData\n",
    "            node.next= current\n",
    "            pre.next = node\n",
    "            return #종료\n",
    "\n",
    "    node = Node() # 마지막에 넣는 경우\n",
    "    node.data = insertData\n",
    "    current.next = node #다시 처음과 연결\n",
    "\n",
    "def deleteNode(findData,deleteData):\n",
    "    global memory,head,current,pre\n",
    "\n",
    "    if head.data == deleteData: # 첫번째가 지울 데이터인 경우\n",
    "        current = head\n",
    "        head = head.next # 헤드 뒤에있는 노드를 한칸씩 땡김\n",
    "        last  = head\n",
    "        while last.next != current:\n",
    "            last = last.next\n",
    "        last.next = head    \n",
    "        del(current) #current 지우기\n",
    "        return #종료\n",
    "\n",
    "    current = head # 처음부터\n",
    "    while current.next != head:\n",
    "        pre = current\n",
    "        current = current.next\n",
    "        if current.data == deleteData:\n",
    "            pre.next = current.next #current뒤에 노드와 연결\n",
    "            del(current)\n",
    "            return #종료\n",
    "\n",
    "def findnode(findData):\n",
    "    global memory,head,current,pre\n",
    "\n",
    "    current = head\n",
    "    if current.data == findData:\n",
    "        return current\n",
    "    while current.next != head:\n",
    "        pre = current\n",
    "        current = current.next\n",
    "        if current.data == findData:\n",
    "            return current\n",
    "    return Node() # 없을 경우 빈 노드 반환  \n",
    "\n",
    "def makeStoreList(store):\n",
    "    global memory,head,current,pre\n",
    "\n",
    "    node = Node()\n",
    "    node.data = store\n",
    "    memory.append(node)\n",
    "\n",
    "    if head == None: # 초기데이터가 없는 경우\n",
    "        head = node\n",
    "        node.next = head # 앞과 뒤 연결\n",
    "        return \n",
    "    \n",
    "    \n",
    "    nodeX,nodeY = node.data[1:] # 새로 입력한 node 데이터의 x,y 저장\n",
    "    nodeDist = math.sqrt(nodeX*nodeX + nodeY*nodeY) # 노드의 거리 계산\n",
    "    headX,headY = head.data[1:] # 맨 앞의 node 데이터의 x,y,저장\n",
    "    headDist = math.sqrt(nodeX*nodeX + nodeY*nodeY) # 노드의 거리 계산\n",
    "\n",
    "    if headDist > nodeDist: # 새로 입력한 노드의 거리가 짧은경우 앞쪽에 삽입\n",
    "            node.next = head\n",
    "            last = head\n",
    "            while last.next != head: # 맨 처음으로 돌아올때 까지\n",
    "                last = last.next # 앞으로 한칸씩 이동\n",
    "            last.next = node # 맨 끝과 앞 연결\n",
    "            head = node\n",
    "            return\n",
    "\n",
    "    # 중간에 데이터를 넣는 경우\n",
    "    current = head\n",
    "    while current.next != head:\n",
    "        pre = current\n",
    "        current = current.next\n",
    "        currX,currY =  current.data[1:] # 현재의 x,y 값을 집어넣음\n",
    "        currDist =  math.sqrt(currX*currX + currY*currY)\n",
    "        if currDist > nodeDist:\n",
    "            pre.next = node\n",
    "            node.next = current\n",
    "            return\n",
    "    \n",
    "    # 맨 마지막에 데이터를 넣는 경우\n",
    "    current.next = node\n",
    "    node.next = head\n",
    "\n",
    "\n",
    "memory = []\n",
    "head,current,pre = None,None,None\n",
    "\n",
    "if __name__ == \"__main__\":\n",
    "    storeArray = []\n",
    "    storeName = \"A\"\n",
    "    for _ in range(10):\n",
    "        store = (storeName,random.randint(1,100),random.randint(1,100))\n",
    "        storeArray.append(store)\n",
    "        storeName = chr(ord(storeName)+1)\n",
    "\n",
    "    for store in storeArray:\n",
    "        makeStoreList(store)\n",
    "\n",
    "    printNodes(head)        "
   ]
  }
 ],
 "metadata": {
  "kernelspec": {
   "display_name": "Python 3.10.6 64-bit",
   "language": "python",
   "name": "python3"
  },
  "language_info": {
   "codemirror_mode": {
    "name": "ipython",
    "version": 3
   },
   "file_extension": ".py",
   "mimetype": "text/x-python",
   "name": "python",
   "nbconvert_exporter": "python",
   "pygments_lexer": "ipython3",
   "version": "3.10.6"
  },
  "orig_nbformat": 4,
  "vscode": {
   "interpreter": {
    "hash": "aee8b7b246df8f9039afb4144a1f6fd8d2ca17a180786b69acc140d282b71a49"
   }
  }
 },
 "nbformat": 4,
 "nbformat_minor": 2
}
