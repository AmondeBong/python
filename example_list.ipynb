{
 "cells": [
  {
   "cell_type": "markdown",
   "metadata": {},
   "source": [
    "### 카톡 친구 자동 삽입하기"
   ]
  },
  {
   "cell_type": "code",
   "execution_count": 19,
   "metadata": {},
   "outputs": [
    {
     "name": "stdout",
     "output_type": "stream",
     "text": [
      "200\n",
      "('민수', 260)\n",
      "[('민수', 260), ('다현', 200), ('정연', 150), ('쯔위', 90), ('사나', 30), ('지효', 15)]\n"
     ]
    }
   ],
   "source": [
    "katok = [('다현',200),('정연',150),('쯔위',90),('사나',30),('지효',15)]\n",
    "\n",
    "def add_friend(friend,times):\n",
    "    \n",
    "\n",
    "    for i in range(len(katok)-1): #카톡 리스트의 길이 만큼 반복\n",
    "        \n",
    "        data = katok[i]\n",
    "        print(data[1])\n",
    "\n",
    "        if times >= data[1]: # 연략횟수가 앞에있는 연락횟수 보다 같거나 클 경우\n",
    "            katok.append(None) # 새로운 배열 추가\n",
    "            katok_len = len(katok) \n",
    "\n",
    "            for j in range(katok_len-1,i,-1):\n",
    "                katok[j] = katok[j-1] #뒤로 한칸씩 옮기기\n",
    "                katok[j-1] = None\n",
    "\n",
    "            katok[i] = (friend,times) # 새 배열 추가\n",
    "            print(katok[i])\n",
    "            break\n",
    "\n",
    "    print(katok)        \n",
    "\n",
    "                \n",
    "\n",
    "if __name__ == \"__main__\":\n",
    "\n",
    "    friend = input(\"추가할 친구 --- >\")\n",
    "    times = int(input(\"카톡 횟수 --- > \"))\n",
    "    add_friend(friend,times)\n",
    "\n"
   ]
  }
 ],
 "metadata": {
  "kernelspec": {
   "display_name": "Python 3.10.6 64-bit",
   "language": "python",
   "name": "python3"
  },
  "language_info": {
   "codemirror_mode": {
    "name": "ipython",
    "version": 3
   },
   "file_extension": ".py",
   "mimetype": "text/x-python",
   "name": "python",
   "nbconvert_exporter": "python",
   "pygments_lexer": "ipython3",
   "version": "3.10.6"
  },
  "orig_nbformat": 4,
  "vscode": {
   "interpreter": {
    "hash": "aee8b7b246df8f9039afb4144a1f6fd8d2ca17a180786b69acc140d282b71a49"
   }
  }
 },
 "nbformat": 4,
 "nbformat_minor": 2
}
